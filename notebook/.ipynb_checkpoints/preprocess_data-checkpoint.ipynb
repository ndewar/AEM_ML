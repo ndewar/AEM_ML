{
 "cells": [
  {
   "cell_type": "code",
   "execution_count": 187,
   "metadata": {},
   "outputs": [],
   "source": [
    "import os\n",
    "import sys\n",
    "import glob\n",
    "import fileinput\n",
    "from pathlib import Path\n",
    "import pandas as pd\n",
    "import numpy as np\n",
    "\n",
    "repo = Path('../')\n",
    "datadir = Path('../raw_processed_data')\n",
    "raw_files = glob.glob(datadir.joinpath('*RAW*.xyz').as_posix())\n",
    "mod_syn_files = glob.glob(datadir.joinpath('*MOD_syn.xyz').as_posix())\n",
    "mod_dat_files = glob.glob(datadir.joinpath('*MOD_dat.xyz').as_posix())\n",
    "lin_file = repo.joinpath(\"455_USA_Butte_County_Prod.lin\")"
   ]
  },
  {
   "cell_type": "markdown",
   "metadata": {},
   "source": [
    "### Remove leading spaces that mess up filereading"
   ]
  },
  {
   "cell_type": "code",
   "execution_count": 169,
   "metadata": {},
   "outputs": [],
   "source": [
    "def rm_leadspace(f_name):\n",
    "    for line in fileinput.input(f_name,inplace = True):\n",
    "        if line.startswith('/ '):\n",
    "            print(line.lstrip('/ ').rstrip('\\n'))\n",
    "        else:\n",
    "            print(line.rstrip('\\n'))\n",
    "    fileinput.close()\n",
    "    \n",
    "for f in datadir.iterdir():\n",
    "    if f.as_posix().endswith('xyz'):\n",
    "        rm_leadspace(f.as_posix())"
   ]
  },
  {
   "cell_type": "code",
   "execution_count": 369,
   "metadata": {},
   "outputs": [
    {
     "data": {
      "text/plain": [
       "['../raw_processed_data/SCI312_sharp_v16b_MOD_syn.xyz',\n",
       " '../raw_processed_data/SCI304_sharp_v1fb_MOD_syn.xyz']"
      ]
     },
     "execution_count": 369,
     "metadata": {},
     "output_type": "execute_result"
    }
   ],
   "source": [
    "mod_syn_files"
   ]
  },
  {
   "cell_type": "markdown",
   "metadata": {},
   "source": [
    "### Import raw data, processed data, and .lin file as DataFrames"
   ]
  },
  {
   "cell_type": "code",
   "execution_count": 376,
   "metadata": {},
   "outputs": [],
   "source": [
    "raw_file_header = 22\n",
    "mod_syn_file_header = 14\n",
    "mod_dat_file_header =  14\n",
    "mod_inv_file_header = 24\n",
    "\n",
    "#Load Raw data\n",
    "for i,f in enumerate(raw_files):\n",
    "    if i==0:\n",
    "        df_raw = pd.read_csv(f,header=raw_file_header,delim_whitespace=True)\n",
    "    else:\n",
    "        df_raw = df_raw.append(pd.read_csv(f,header=raw_file_header,delim_whitespace=True))\n",
    "\n",
    "#Load synthetic/modeled data from inversion (should correspond to processed data)\n",
    "df_syn312 = pd.read_csv(datadir.joinpath('SCI312_sharp_v16b_MOD_syn.xyz'),header=mod_syn_file_header,delim_whitespace=True)\n",
    "df_syn304 = pd.read_csv(datadir.joinpath('SCI304_sharp_v1fb_MOD_syn.xyz'),header=24,delim_whitespace=True)\n",
    "\n",
    "# df_syn = pd.read_csv(mod_syn_files[0],header=mod_syn_file_header,delim_whitespace=True)\n",
    "\n",
    "#Load .lin (production file) data\n",
    "df_lin = pd.read_csv(lin_file,header=None,delim_whitespace=True,\n",
    "                    names=['DATE','TIME','LINE','X','Y','FLIGHT','FLIGHT_ID','NOTE'])\n",
    "start = [True if v.endswith('start') else False for v in df_lin.NOTE ]# start = []\n",
    "df_lin = df_lin.assign(START = start)\n",
    "df_lin = df_lin.assign(END = ~df_lin.START)"
   ]
  },
  {
   "cell_type": "markdown",
   "metadata": {},
   "source": [
    "## Pre-processing"
   ]
  },
  {
   "cell_type": "markdown",
   "metadata": {},
   "source": [
    "#### 1: Remove data during turns\n",
    "#### NOT Implemented. Need to understand the time in processed files to be able to do this"
   ]
  },
  {
   "cell_type": "code",
   "execution_count": 309,
   "metadata": {},
   "outputs": [
    {
     "name": "stdout",
     "output_type": "stream",
     "text": [
      "Time 2018-11-30 15:59:21 during deadtime: True\n"
     ]
    }
   ],
   "source": [
    "import datetime\n",
    "\n",
    "#Each \"START\" preceeds a \"END\"\n",
    "strt_ind = np.asarray(df_lin.loc[df_lin.START==True].index)\n",
    "end_ind =  np.asarray(df_lin.loc[df_lin.END==True].index)\n",
    "\n",
    "\n",
    "def during_deadtime(eval_time,end_ind):\n",
    "    for ind in end_ind:\n",
    "        if ind==end_ind[-1]:\n",
    "            break\n",
    "        end_time =  datetime.datetime.strptime(df_lin.DATE[ind] +'-'+ df_lin.TIME[ind],\"%d-%m-%Y-%H:%M:%S\")\n",
    "        start_time = datetime.datetime.strptime(df_lin.DATE[ind+1] +'-'+ df_lin.TIME[ind+1],\"%d-%m-%Y-%H:%M:%S\")\n",
    "        if (eval_time >= end_time) and (eval_time < start_time):\n",
    "            return True\n",
    "            break\n",
    "    return False\n",
    "\n",
    "eval_time = datetime.datetime.strptime(df_lin.DATE[1] +'-'+ df_lin.TIME[1],\"%d-%m-%Y-%H:%M:%S\")\n",
    "print('Time',eval_time,'during deadtime:',during_deadtime(eval_time,end_ind))\n"
   ]
  },
  {
   "cell_type": "markdown",
   "metadata": {},
   "source": [
    "#### 2: Remove data separated by more than 30 m"
   ]
  },
  {
   "cell_type": "code",
   "execution_count": 386,
   "metadata": {},
   "outputs": [
    {
     "name": "stdout",
     "output_type": "stream",
     "text": [
      "0 of 48032\n",
      "5000 of 48032\n",
      "10000 of 48032\n",
      "15000 of 48032\n",
      "20000 of 48032\n",
      "25000 of 48032\n",
      "30000 of 48032\n",
      "35000 of 48032\n",
      "40000 of 48032\n",
      "45000 of 48032\n"
     ]
    }
   ],
   "source": [
    "# mindist = lambda x,y,xarray,yarray: np.min(np.sqrt((x-xarray)**2 + (y-yarray)**2))\n",
    "def mindist(x,y,xarray,yarray,minthresh=-1, maxthresh=30): \n",
    "    return min((val, idx) for (idx, val) in enumerate(np.sqrt((x-xarray)**2 + (y-yarray)**2)))\n",
    "\n",
    "closest_pos = np.zeros(len(df_raw.UTMX))\n",
    "closest_ind = np.zeros(len(df_raw.UTMX))\n",
    "for i,(x,y) in enumerate(zip(df_raw.UTMX,df_raw.UTMY)):\n",
    "    if i%5000==0:\n",
    "        print('{} of {}'.format(i,len(df_raw)))\n",
    "    closest_pos[i],closest_ind[i] =mindist(x,\n",
    "                                           y,\n",
    "                                           pd.concat((df_syn304.UTMX,df_syn312.X)),\n",
    "                                           pd.concat((df_syn304.UTMY,df_syn312.Y)),\n",
    "                                           maxthresh=30)"
   ]
  },
  {
   "cell_type": "code",
   "execution_count": 387,
   "metadata": {},
   "outputs": [],
   "source": [
    "df_raw = df_raw.assign(closest_pos = closest_pos)\n",
    "df_raw = df_raw.assign(closest_ind = closest_ind)\n",
    "df_raw = df_raw.assign(VALID = closest_pos <= 30.)"
   ]
  },
  {
   "cell_type": "code",
   "execution_count": 389,
   "metadata": {},
   "outputs": [
    {
     "data": {
      "text/plain": [
       "Text(0.5, 1.0, 'Valid Raw Soundings')"
      ]
     },
     "execution_count": 389,
     "metadata": {},
     "output_type": "execute_result"
    },
    {
     "data": {
      "image/png": "[encoded data removed]",
      "text/plain": [
       "<Figure size 432x288 with 2 Axes>"
      ]
     },
     "metadata": {
      "needs_background": "light"
     },
     "output_type": "display_data"
    }
   ],
   "source": [
    "plt.scatter(df_raw.UTMX,df_raw.UTMY,c=df_raw.VALID,s=1)\n",
    "plt.colorbar()\n",
    "plt.xlabel(\"UTM X\")\n",
    "plt.xlabel(\"UTM Y\")\n",
    "plt.title(\"Valid Raw Soundings\")"
   ]
  },
  {
   "cell_type": "code",
   "execution_count": 392,
   "metadata": {},
   "outputs": [],
   "source": [
    "#Checkpoint\n",
    "df_raw.to_pickle(repo.joinpath('data','raw_processed.pkl'))"
   ]
  },
  {
   "cell_type": "code",
   "execution_count": null,
   "metadata": {},
   "outputs": [],
   "source": [
    "df = pd.read_pickle(datadir.joinpath('raw_processed.pkl'))"
   ]
  },
  {
   "cell_type": "code",
   "execution_count": 247,
   "metadata": {},
   "outputs": [],
   "source": [
    "lm_inds = np.array(['DBDT_Ch1' in key.split('GT') for key in df.keys()], dtype=bool)\n",
    "hm_inds = np.array(['DBDT_Ch2' in key.split('GT') for key in df.keys()], dtype=bool)\n",
    "dbdt_inds = np.array([key.startswith('DBDT') for key in df.keys()], dtype=bool)\n",
    "\n",
    "lm_header = (df.keys()[lm_inds])[i_start_lm:]\n",
    "hm_header = (df.keys()[hm_inds])[i_start_hm:]"
   ]
  },
  {
   "cell_type": "markdown",
   "metadata": {},
   "source": [
    "#### Drop any soundings where HM or LM is repeated"
   ]
  },
  {
   "cell_type": "code",
   "execution_count": null,
   "metadata": {},
   "outputs": [],
   "source": [
    "flag=0\n",
    "\n",
    "#Do this line-by-line\n",
    "ind_counter=0\n",
    "for line_tmp in df.LINE_NO.unique():\n",
    "    #Do this line-by-line\n",
    "    ind_counter=0\n",
    "    # for line_tmp in df.LINE_NO.unique():\n",
    "\n",
    "    #Extract data from each line\n",
    "    df_tmp = df.loc[df.LINE_NO==line_tmp]\n",
    "\n",
    "    #Drop entries where the line starts w/ LM  or ends w/ HM\n",
    "    last_ind = df_tmp.index.max()\n",
    "    first_ind = df_tmp.index.min()\n",
    "    if df_tmp.loc[last_ind].CHANNEL_NO==2:\n",
    "        df_tmp = df_tmp.drop(index=last_ind)\n",
    "    if df_tmp.loc[first_ind].CHANNEL_NO==1:\n",
    "        df_tmp = df_tmp.drop(index=first_ind)\n",
    "\n",
    "    #Drop entries where LM or HM is repeated\n",
    "    repeat_inds = df_tmp.index[df_tmp.CHANNEL_NO.diff()==0]\n",
    "    \n",
    "    df_tmp = df_tmp.drop(index=repeat_inds)\n",
    "    df_tmp = df_tmp.sort_index()\n",
    "\n",
    "\n",
    "\n",
    "    index_new = np.arange(ind_counter,len(df_tmp)+ind_counter)\n",
    "    ind_counter+=len(df_tmp)\n",
    "    df_tmp = df_tmp.reindex(index=index_new)\n",
    "#     print(df_tmp.index.min(),df_tmp.index.max())\n",
    "\n",
    "    #Stack df_tmp to create df_new\n",
    "    if flag==0:\n",
    "        df_new = df_tmp.copy()\n",
    "        flag=1\n",
    "    else:\n",
    "        df_new = df_new.append(df_tmp)\n",
    "\n",
    "df = df_new.copy()\n",
    "df = df.set_index('TIMESTAMP').sort_index().reset_index()\n",
    "# df = df.sort_index()\n"
   ]
  },
  {
   "cell_type": "markdown",
   "metadata": {},
   "source": [
    "### Verify that partnered LM and HM data have the same label (valid=true/false) \n",
    "This happens where the HM happens within 30m but the LM happens just over 30m from inverted location\n",
    "<br>\n",
    "Or where the LM happens outside 30m but the HM happens just within 30m of inverted location\n",
    "<br><br>\n",
    "##### Rule:\n",
    " - if HM is valid but LM not valid, accept LM\n",
    " - if HM is not valid but LM valid, reject HM\n",
    "<br>\n",
    "\n"
   ]
  },
  {
   "cell_type": "code",
   "execution_count": 259,
   "metadata": {},
   "outputs": [
    {
     "name": "stderr",
     "output_type": "stream",
     "text": [
      "/Users/ianpg/anaconda/envs/AEM_ML/lib/python3.7/site-packages/pandas/core/indexing.py:965: SettingWithCopyWarning: \n",
      "A value is trying to be set on a copy of a slice from a DataFrame.\n",
      "Try using .loc[row_indexer,col_indexer] = value instead\n",
      "\n",
      "See the caveats in the documentation: https://pandas.pydata.org/pandas-docs/stable/user_guide/indexing.html#returning-a-view-versus-a-copy\n",
      "  self.obj[item] = s\n"
     ]
    }
   ],
   "source": [
    "flag=0\n",
    "for line_tmp in df.LINE_NO.unique():\n",
    "    df_tmp = df.loc[df.LINE_NO==line_tmp]\n",
    "    HMind = df_tmp.index[df_tmp.CHANNEL_NO==2]\n",
    "    LMind = HMind+1\n",
    "    hmValid_lmInvalid = np.logical_and(df_tmp.loc[HMind,'VALID'].values==True,\n",
    "                                       df_tmp.loc[LMind,'VALID'].values==False)\n",
    "        \n",
    "    #Update rows and re-insert\n",
    "    rows = df_tmp.loc[LMind[hmValid_lmInvalid]].copy()\n",
    "    rows.VALID=True\n",
    "    df_tmp.loc[rows.index] = rows\n",
    "    \n",
    "    \n",
    "    \n",
    "    lmValid_hmInvalid = np.logical_and(df_tmp.loc[HMind,'VALID'].values==False,\n",
    "                                       df_tmp.loc[LMind,'VALID'].values==True)\n",
    "\n",
    "    rows = df_tmp.loc[LMind[lmValid_hmInvalid]].copy()\n",
    "#     print(rows.VALID)\n",
    "    rows.VALID=False\n",
    "    df_tmp.loc[rows.index] = rows\n",
    "\n",
    "    #Stack df_tmp to create df_new\n",
    "    if flag==0:\n",
    "        df_new = df_tmp.copy()\n",
    "        flag=1\n",
    "    else:\n",
    "        df_new = df_new.append(df_tmp)\n",
    "\n",
    "df = df_new.copy()\n"
   ]
  },
  {
   "cell_type": "raw",
   "metadata": {},
   "source": [
    "for line_tmp in df.LINE_NO.unique():\n",
    "    df_tmp = df.loc[df.LINE_NO==line_tmp]\n",
    "    HMind = df_tmp.index[df_tmp.CHANNEL_NO==2]\n",
    "    LMind = HMind+1\n",
    "\n",
    "    hmValid_lmInvalid = np.logical_and(df_tmp.loc[HMind,'VALID'].values==True,\n",
    "                                       df_tmp.loc[LMind,'VALID'].values==False)\n",
    "    lmValid_hmInvalid = np.logical_and(df_tmp.loc[LMind,'VALID'].values==True,\n",
    "                                   df_tmp.loc[HMind,'VALID'].values==False)\n",
    "\n",
    "    print(line_tmp,np.any(hmValid_lmInvalid),np.any(lmValid_hmInvalid))"
   ]
  },
  {
   "cell_type": "code",
   "execution_count": 263,
   "metadata": {},
   "outputs": [],
   "source": [
    "df.to_pickle(datadir.joinpath('raw_processed_validated.pkl'))"
   ]
  }
 ],
 "metadata": {
  "kernelspec": {
   "display_name": "Python [conda env:SWIenv]",
   "language": "python",
   "name": "conda-env-SWIenv-py"
  },
  "language_info": {
   "codemirror_mode": {
    "name": "ipython",
    "version": 3
   },
   "file_extension": ".py",
   "mimetype": "text/x-python",
   "name": "python",
   "nbconvert_exporter": "python",
   "pygments_lexer": "ipython3",
   "version": "3.6.7"
  }
 },
 "nbformat": 4,
 "nbformat_minor": 2
}

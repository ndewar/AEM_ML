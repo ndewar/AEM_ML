{
 "cells": [
  {
   "cell_type": "code",
   "execution_count": 227,
   "metadata": {},
   "outputs": [],
   "source": [
    "# load packages\n",
    "import numpy as np\n",
    "from IPython.display import SVG\n",
    "import matplotlib.pyplot as plt\n",
    "from matplotlib.pyplot import imshow\n",
    "\n",
    "%matplotlib inline\n",
    "from pathlib import Path\n",
    "import pandas as pd\n",
    "import pickle\n",
    "import glob\n",
    "\n",
    "repo = Path('../')\n",
    "datadir = Path('../raw_processed_data')\n",
    "\n",
    "\n",
    "\n",
    "df.read_pickle(datadir.joinpath('raw_processed_validated.pkl'))"
   ]
  },
  {
   "cell_type": "markdown",
   "metadata": {},
   "source": [
    "### Create input data matrix\n",
    "\n",
    "shape of $data$: (m,n_channel,n_adj*2+1,37)\n"
   ]
  },
  {
   "cell_type": "code",
   "execution_count": 362,
   "metadata": {},
   "outputs": [],
   "source": [
    "def create_data_matrix(df,n_adj=1,include_std=True):\n",
    "    lm_std_cols = [c for c in df.columns if c.startswith('DBDT_STD_Ch1')]\n",
    "    lm_cols = [c for c in df.columns if c.startswith('DBDT_Ch1')]\n",
    "    hm_std_cols = [c for c in df.columns if c.startswith('DBDT_STD_Ch2')]\n",
    "    hm_cols = [c for c in df.columns if c.startswith('DBDT_Ch2')]\n",
    "    all_rows = np.arange(n_adj*2,len(df)-n_adj*2,2)\n",
    "    m = len(all_rows)\n",
    "    if include_std:\n",
    "        n_channel=4\n",
    "    else:\n",
    "        n_channel=2\n",
    "    data = np.zeros((m,n_channel,n_adj*2+1,37),dtype=float)\n",
    "\n",
    "    for i,row in enumerate(all_rows):\n",
    "        if i%5000==0:\n",
    "            print('iteration {} of {}'.format(i,m))\n",
    "        #get the correct soundings\n",
    "        df_tmp = df.loc[row-n_adj*2:row+n_adj*2+1]\n",
    "        HMind = df_tmp.index[df_tmp.CHANNEL_NO==2]\n",
    "        LMind = HMind+1\n",
    "\n",
    "        #Create data matrix\n",
    "        lm_data_zero_padded = np.c_[df_tmp.loc[LMind,lm_cols].values,\n",
    "                                    9999.0*np.ones((n_adj*2+1,9))]\n",
    "        hm_data = df_tmp.loc[HMind,hm_cols].values\n",
    "\n",
    "\n",
    "        if include_std:\n",
    "            lm_std_zero_padded = np.c_[df_tmp.loc[LMind,lm_std_cols].values,\n",
    "                                        9999.0*np.ones((n_adj*2+1,9))]\n",
    "            hm_std = df_tmp.loc[HMind,hm_std_cols].values\n",
    "            data[i] = np.stack((hm_data,lm_data_zero_padded,hm_std,lm_std_zero_padded))\n",
    "        else:\n",
    "            data[i] = np.stack((hm_data,lm_data_zero_padded))\n",
    "    return data\n",
    "\n"
   ]
  },
  {
   "cell_type": "markdown",
   "metadata": {},
   "source": [
    "### Create and save a data matrix for 1-4 adjacent soundings"
   ]
  },
  {
   "cell_type": "code",
   "execution_count": null,
   "metadata": {},
   "outputs": [],
   "source": [
    "include_std=True\n",
    "for n_adj in np.arange(1,5):\n",
    "    print('creating data for n_adj={}'.format(n_adj))\n",
    "    data = create_data_matrix(df,n_adj=n_adj,include_std=include_std)\n",
    "    np.save(datadir.joinpath('data_nadj{}_std{}.npy'.format(n_adj,include_std)),data)"
   ]
  }
 ],
 "metadata": {
  "kernelspec": {
   "display_name": "Python [conda env:AEM_ML]",
   "language": "python",
   "name": "conda-env-AEM_ML-py"
  },
  "language_info": {
   "codemirror_mode": {
    "name": "ipython",
    "version": 3
   },
   "file_extension": ".py",
   "mimetype": "text/x-python",
   "name": "python",
   "nbconvert_exporter": "python",
   "pygments_lexer": "ipython3",
   "version": "3.7.6"
  }
 },
 "nbformat": 4,
 "nbformat_minor": 2
}

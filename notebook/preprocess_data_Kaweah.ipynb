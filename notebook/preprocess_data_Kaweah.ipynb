{
 "cells": [
  {
   "cell_type": "code",
   "execution_count": 1,
   "metadata": {},
   "outputs": [],
   "source": [
    "import os\n",
    "import sys\n",
    "import glob\n",
    "import fileinput\n",
    "from pathlib import Path\n",
    "import pandas as pd\n",
    "import numpy as np\n",
    "\n",
    "repo = Path('../')\n",
    "datadir = Path('../raw_processed_data_Kaweah')\n",
    "raw_files = glob.glob(datadir.joinpath('*RAW*.xyz').as_posix())\n",
    "mod_syn_files = glob.glob(datadir.joinpath('*MOD_syn.xyz').as_posix())\n",
    "mod_dat_files = glob.glob(datadir.joinpath('*MOD_dat.xyz').as_posix())\n",
    "lin_file = repo.joinpath(\"455_USA_Butte_County_Prod.lin\")"
   ]
  },
  {
   "cell_type": "markdown",
   "metadata": {},
   "source": [
    "### Remove leading spaces that mess up filereading"
   ]
  },
  {
   "cell_type": "code",
   "execution_count": 2,
   "metadata": {},
   "outputs": [],
   "source": [
    "def rm_leadspace(f_name):\n",
    "    for line in fileinput.input(f_name,inplace = True):\n",
    "        if line.startswith('/ '):\n",
    "            print(line.lstrip('/ ').rstrip('\\n'))\n",
    "        else:\n",
    "            print(line.rstrip('\\n'))\n",
    "    fileinput.close()\n",
    "    \n",
    "for f in datadir.iterdir():\n",
    "    if f.as_posix().endswith('xyz'):\n",
    "        rm_leadspace(f.as_posix())"
   ]
  },
  {
   "cell_type": "code",
   "execution_count": 8,
   "metadata": {},
   "outputs": [
    {
     "data": {
      "text/plain": [
       "['../raw_processed_data_Kaweah/Kwh_SCI3i_MOD_syn.xyz']"
      ]
     },
     "execution_count": 8,
     "metadata": {},
     "output_type": "execute_result"
    }
   ],
   "source": [
    "mod_syn_files"
   ]
  },
  {
   "cell_type": "markdown",
   "metadata": {},
   "source": [
    "### Import raw data, processed data, and .lin file as DataFrames"
   ]
  },
  {
   "cell_type": "code",
   "execution_count": 14,
   "metadata": {},
   "outputs": [],
   "source": [
    "raw_file_header = 22\n",
    "mod_syn_file_header = 14\n",
    "mod_dat_file_header =  14\n",
    "mod_inv_file_header = 24\n",
    "\n",
    "#Load Raw data\n",
    "for i,f in enumerate(raw_files):\n",
    "    if i==0:\n",
    "        df_raw = pd.read_csv(f,header=raw_file_header,delim_whitespace=True)\n",
    "    else:\n",
    "        df_raw = df_raw.append(pd.read_csv(f,header=raw_file_header,delim_whitespace=True))\n",
    "\n",
    "#Load synthetic/modeled data from inversion (should correspond to processed data)\n",
    "df_syn = pd.read_csv(mod_syn_files[0],header=24,delim_whitespace=True)\n",
    "# df_syn = pd.read_csv(mod_syn_files[0],header=mod_syn_file_header,delim_whitespace=True)\n",
    "\n",
    "#Load .lin (production file) data\n",
    "df_lin = pd.read_csv(lin_file,header=None,delim_whitespace=True,\n",
    "                    names=['DATE','TIME','LINE','X','Y','FLIGHT','FLIGHT_ID','NOTE'])\n",
    "start = [True if v.endswith('start') else False for v in df_lin.NOTE ]# start = []\n",
    "df_lin = df_lin.assign(START = start)\n",
    "df_lin = df_lin.assign(END = ~df_lin.START)"
   ]
  },
  {
   "cell_type": "markdown",
   "metadata": {},
   "source": [
    "## Pre-processing"
   ]
  },
  {
   "cell_type": "markdown",
   "metadata": {},
   "source": [
    "#### 1: Remove data during turns\n",
    "#### NOT Implemented. Need to understand the time in processed files to be able to do this"
   ]
  },
  {
   "cell_type": "code",
   "execution_count": 309,
   "metadata": {},
   "outputs": [
    {
     "name": "stdout",
     "output_type": "stream",
     "text": [
      "Time 2018-11-30 15:59:21 during deadtime: True\n"
     ]
    }
   ],
   "source": [
    "import datetime\n",
    "\n",
    "#Each \"START\" preceeds a \"END\"\n",
    "strt_ind = np.asarray(df_lin.loc[df_lin.START==True].index)\n",
    "end_ind =  np.asarray(df_lin.loc[df_lin.END==True].index)\n",
    "\n",
    "\n",
    "def during_deadtime(eval_time,end_ind):\n",
    "    for ind in end_ind:\n",
    "        if ind==end_ind[-1]:\n",
    "            break\n",
    "        end_time =  datetime.datetime.strptime(df_lin.DATE[ind] +'-'+ df_lin.TIME[ind],\"%d-%m-%Y-%H:%M:%S\")\n",
    "        start_time = datetime.datetime.strptime(df_lin.DATE[ind+1] +'-'+ df_lin.TIME[ind+1],\"%d-%m-%Y-%H:%M:%S\")\n",
    "        if (eval_time >= end_time) and (eval_time < start_time):\n",
    "            return True\n",
    "            break\n",
    "    return False\n",
    "\n",
    "eval_time = datetime.datetime.strptime(df_lin.DATE[1] +'-'+ df_lin.TIME[1],\"%d-%m-%Y-%H:%M:%S\")\n",
    "print('Time',eval_time,'during deadtime:',during_deadtime(eval_time,end_ind))\n"
   ]
  },
  {
   "cell_type": "markdown",
   "metadata": {},
   "source": [
    "#### 2: Remove data separated by more than 30 m"
   ]
  },
  {
   "cell_type": "code",
   "execution_count": 16,
   "metadata": {},
   "outputs": [
    {
     "data": {
      "text/plain": [
       "Index(['LINE_NO', 'UTMX', 'UTMY', 'TIMESTAMP', 'FID', 'RECORD', 'ELEVATION',\n",
       "       'ALT', 'INVALT', 'INVALTSTD', 'DELTAALT', 'TILT', 'INVTILT',\n",
       "       'INVTILTSTD', 'NUMDATA', 'SEGMENT', 'RESDATA', 'RESTOTAL', 'DATA_0',\n",
       "       'DATA_1', 'DATA_2', 'DATA_3', 'DATA_4', 'DATA_5', 'DATA_6', 'DATA_7',\n",
       "       'DATA_8', 'DATA_9', 'DATA_10', 'DATA_11', 'DATA_12', 'DATA_13',\n",
       "       'DATA_14', 'DATA_15', 'DATA_16', 'DATA_17', 'DATA_18', 'DATA_19',\n",
       "       'DATA_20', 'DATA_21', 'DATA_22', 'DATA_23', 'DATA_24', 'DATA_25',\n",
       "       'DATA_26', 'DATA_27', 'DATA_28', 'DATA_29', 'DATA_30', 'DATA_31',\n",
       "       'DATA_32', 'DATA_33', 'DATA_34', 'DATA_35', 'DATA_36'],\n",
       "      dtype='object')"
      ]
     },
     "execution_count": 16,
     "metadata": {},
     "output_type": "execute_result"
    }
   ],
   "source": [
    "df_syn.columns"
   ]
  },
  {
   "cell_type": "code",
   "execution_count": 17,
   "metadata": {},
   "outputs": [
    {
     "name": "stdout",
     "output_type": "stream",
     "text": [
      "0 of 49759\n",
      "5000 of 49759\n",
      "10000 of 49759\n",
      "15000 of 49759\n",
      "20000 of 49759\n",
      "25000 of 49759\n",
      "30000 of 49759\n",
      "35000 of 49759\n",
      "40000 of 49759\n",
      "45000 of 49759\n"
     ]
    }
   ],
   "source": [
    "# mindist = lambda x,y,xarray,yarray: np.min(np.sqrt((x-xarray)**2 + (y-yarray)**2))\n",
    "def mindist(x,y,xarray,yarray,minthresh=-1): \n",
    "    return min((val, idx) for (idx, val) in enumerate(np.sqrt((x-xarray)**2 + (y-yarray)**2)))\n",
    "\n",
    "closest_pos = np.zeros(len(df_raw.UTMX))\n",
    "closest_ind = np.zeros(len(df_raw.UTMX))\n",
    "for i,(x,y) in enumerate(zip(df_raw.UTMX,df_raw.UTMY)):\n",
    "    if i%5000==0:\n",
    "        print('{} of {}'.format(i,len(df_raw)))\n",
    "    closest_pos[i],closest_ind[i] =mindist(x,\n",
    "                                           y,\n",
    "                                           df_syn.UTMX,\n",
    "                                           df_syn.UTMY\n",
    "                                           )"
   ]
  },
  {
   "cell_type": "code",
   "execution_count": 18,
   "metadata": {},
   "outputs": [],
   "source": [
    "df_raw = df_raw.assign(closest_pos = closest_pos)\n",
    "df_raw = df_raw.assign(closest_ind = closest_ind)\n",
    "df_raw = df_raw.assign(VALID = closest_pos <= 30.)"
   ]
  },
  {
   "cell_type": "code",
   "execution_count": 140,
   "metadata": {},
   "outputs": [
    {
     "data": {
      "image/png": "[encoded data removed]",
      "text/plain": [
       "<Figure size 288x288 with 2 Axes>"
      ]
     },
     "metadata": {
      "needs_background": "light"
     },
     "output_type": "display_data"
    }
   ],
   "source": [
    "import matplotlib.pyplot as plt \n",
    "f,ax = plt.subplots(1,figsize=(4,4))\n",
    "plt.scatter(df_raw.UTMX/1000,df_raw.UTMY/1000,c=df_raw.VALID,s=1)\n",
    "cb = plt.colorbar()\n",
    "cb.set_ticks([0,1])\n",
    "cb.set_ticklabels(['Invalid','Valid'])\n",
    "plt.xlabel(\"Easting (km)\")\n",
    "plt.ylabel(\"Northing (km)\")\n",
    "plt.title(\"Airborne electromagnetic data \\nKaweah, CA\")\n",
    "# cb.set_labels\n",
    "ax.grid(True)\n",
    "plt.savefig(repo.joinpath('Kaweah_lines.png'),dpi=300,bbox_inches='tight')"
   ]
  },
  {
   "cell_type": "code",
   "execution_count": 134,
   "metadata": {},
   "outputs": [],
   "source": []
  },
  {
   "cell_type": "code",
   "execution_count": 61,
   "metadata": {},
   "outputs": [],
   "source": [
    "#Checkpoint\n",
    "df_raw.to_pickle(datadir.joinpath('raw_processed.pkl'))"
   ]
  },
  {
   "cell_type": "code",
   "execution_count": 121,
   "metadata": {},
   "outputs": [],
   "source": [
    "df = pd.read_pickle(datadir.joinpath('raw_processed.pkl'))"
   ]
  },
  {
   "cell_type": "code",
   "execution_count": null,
   "metadata": {},
   "outputs": [],
   "source": []
  },
  {
   "cell_type": "markdown",
   "metadata": {},
   "source": [
    "#### Drop any soundings where HM or LM is repeated"
   ]
  },
  {
   "cell_type": "code",
   "execution_count": 123,
   "metadata": {},
   "outputs": [
    {
     "name": "stdout",
     "output_type": "stream",
     "text": [
      "0 101901\n",
      "1 200901\n",
      "2 200601\n",
      "3 200401\n",
      "4 100901\n",
      "5 101001\n",
      "6 201401\n",
      "7 101101\n",
      "8 201601\n",
      "9 100801\n",
      "10 100701\n",
      "11 100601\n",
      "12 201101\n",
      "13 200301\n",
      "14 200201\n",
      "15 200101\n",
      "16 100501\n",
      "17 100301\n",
      "18 100201\n",
      "19 101601\n",
      "20 101202\n",
      "21 200203\n",
      "22 200303\n",
      "23 100203\n",
      "24 100102\n",
      "25 200802\n",
      "26 201103\n",
      "27 101702\n",
      "28 101802\n",
      "29 100602\n",
      "30 101501\n",
      "31 200501\n",
      "32 2001001\n",
      "33 101401\n",
      "34 101301\n",
      "35 100302\n",
      "36 100401\n",
      "37 201501\n",
      "38 201701\n",
      "39 201301\n",
      "40 201201\n",
      "41 200701\n",
      "42 201202\n"
     ]
    }
   ],
   "source": [
    "flag=0\n",
    "\n",
    "#Do this line-by-line\n",
    "ind_counter=0\n",
    "df = df.set_index('TIMESTAMP').sort_index().reset_index()\n",
    "\n",
    "# df.reset_index(drop=True,inplace=True)\n",
    "\n",
    "for line_tmp in df.LINE_NO.unique():\n",
    "    print(ind_counter,line_tmp)\n",
    "#     if ind_counter!= 0:\n",
    "#         break\n",
    "    #Extract data from each line\n",
    "    df_tmp = df.loc[df.LINE_NO==line_tmp,:]\n",
    "\n",
    "    #Drop entries where the line starts w/ LM  or ends w/ HM\n",
    "    last_ind = df_tmp.index.max()\n",
    "    first_ind = df_tmp.index.min()\n",
    "    if df.loc[last_ind].CHANNEL_NO==2:\n",
    "        print('dropping last ind...')\n",
    "        df.drop(index=last_ind,inplace=True)\n",
    "    if df.loc[first_ind].CHANNEL_NO==1:\n",
    "        df.drop(index=first_ind,inplace=True)\n",
    "        print('dropping first ind...')\n",
    "\n",
    "    #Drop entries where LM or HM is repeated\n",
    "    repeat_inds = df_tmp.index[df_tmp.CHANNEL_NO.diff()==0]\n",
    "    df.drop(index=repeat_inds,inplace=True)\n",
    "    ind_counter+=1\n",
    "\n",
    "df.sort_index(inplace=True)\n"
   ]
  },
  {
   "cell_type": "code",
   "execution_count": null,
   "metadata": {},
   "outputs": [],
   "source": []
  },
  {
   "cell_type": "code",
   "execution_count": null,
   "metadata": {},
   "outputs": [],
   "source": []
  },
  {
   "cell_type": "raw",
   "metadata": {},
   "source": [
    "flag=0\n",
    "\n",
    "#Do this line-by-line\n",
    "ind_counter=0\n",
    "for line_tmp in df.LINE_NO.unique():\n",
    "    print(ind_counter,line_tmp)\n",
    "    if ind_counter!= 0:\n",
    "        break\n",
    "    #Extract data from each line\n",
    "    df_tmp = df.loc[df.LINE_NO==line_tmp,:]\n",
    "\n",
    "    #Drop entries where the line starts w/ LM  or ends w/ HM\n",
    "    last_ind = df_tmp.index.max()\n",
    "    first_ind = df_tmp.index.min()\n",
    "    if df_tmp.loc[last_ind].CHANNEL_NO==2:\n",
    "        print('dropping last ind...')\n",
    "        df_tmp = df_tmp.drop(index=last_ind)\n",
    "    if df_tmp.loc[first_ind].CHANNEL_NO==1:\n",
    "        df_tmp = df_tmp.drop(index=first_ind)\n",
    "        print('dropping first ind...')\n",
    "\n",
    "    #Drop entries where LM or HM is repeated\n",
    "    repeat_inds = df_tmp.index[df_tmp.CHANNEL_NO.diff()==0]\n",
    "    \n",
    "    df_tmp = df_tmp.drop(index=repeat_inds)\n",
    "    df_tmp = df_tmp.sort_index()\n",
    "\n",
    "    index_new = np.arange(ind_counter,len(df_tmp)+ind_counter)\n",
    "    ind_counter+=len(df_tmp)\n",
    "    df_tmp = df_tmp.reindex(index=index_new)\n",
    "#     print(df_tmp.index.min(),df_tmp.index.max())\n",
    "\n",
    "    #Stack df_tmp to create df_new\n",
    "    if flag==0:\n",
    "        df_new = df_tmp.copy()\n",
    "        flag=1\n",
    "    else:\n",
    "        df_new = df_new.append(df_tmp)\n",
    "\n",
    "df = df_new.copy()\n",
    "# df = df.set_index('TIMESTAMP').sort_index().reset_index()\n",
    "# df = df.sort_index()\n"
   ]
  },
  {
   "cell_type": "code",
   "execution_count": null,
   "metadata": {},
   "outputs": [],
   "source": []
  },
  {
   "cell_type": "code",
   "execution_count": null,
   "metadata": {},
   "outputs": [],
   "source": []
  },
  {
   "cell_type": "markdown",
   "metadata": {},
   "source": [
    "### Verify that partnered LM and HM data have the same label (valid=true/false) \n",
    "This happens where the HM happens within 30m but the LM happens just over 30m from inverted location\n",
    "<br>\n",
    "Or where the LM happens outside 30m but the HM happens just within 30m of inverted location\n",
    "<br><br>\n",
    "##### Rule:\n",
    " - if HM is valid but LM not valid, accept LM\n",
    " - if HM is not valid but LM valid, reject HM\n",
    "<br>\n",
    "\n"
   ]
  },
  {
   "cell_type": "code",
   "execution_count": 125,
   "metadata": {},
   "outputs": [
    {
     "name": "stdout",
     "output_type": "stream",
     "text": [
      "Line no: 101901\n"
     ]
    },
    {
     "name": "stderr",
     "output_type": "stream",
     "text": [
      "/Users/ianpg/anaconda/envs/SWIenv/lib/python3.6/site-packages/pandas/core/indexing.py:543: SettingWithCopyWarning: \n",
      "A value is trying to be set on a copy of a slice from a DataFrame.\n",
      "Try using .loc[row_indexer,col_indexer] = value instead\n",
      "\n",
      "See the caveats in the documentation: http://pandas.pydata.org/pandas-docs/stable/indexing.html#indexing-view-versus-copy\n",
      "  self.obj[item] = s\n"
     ]
    },
    {
     "name": "stdout",
     "output_type": "stream",
     "text": [
      "Line no: 200901\n",
      "Line no: 200601\n",
      "Line no: 200401\n",
      "Line no: 100901\n",
      "Line no: 101001\n",
      "Line no: 201401\n",
      "Line no: 101101\n",
      "Line no: 201601\n",
      "Line no: 100801\n",
      "Line no: 100701\n",
      "Line no: 100601\n",
      "Line no: 201101\n",
      "Line no: 200301\n",
      "Line no: 200201\n",
      "Line no: 200101\n",
      "Line no: 100501\n",
      "Line no: 100301\n",
      "Line no: 100201\n",
      "Line no: 101601\n",
      "Line no: 101202\n",
      "Line no: 200203\n",
      "Line no: 200303\n",
      "Line no: 100203\n",
      "Line no: 100102\n",
      "Line no: 200802\n",
      "Line no: 201103\n",
      "Line no: 101702\n",
      "Line no: 101802\n",
      "Line no: 100602\n",
      "Line no: 101501\n",
      "Line no: 200501\n",
      "Line no: 2001001\n",
      "Line no: 101401\n",
      "Line no: 101301\n",
      "Line no: 100302\n",
      "Line no: 100401\n",
      "Line no: 201501\n",
      "Line no: 201701\n",
      "Line no: 201301\n",
      "Line no: 201201\n",
      "Line no: 200701\n",
      "Line no: 201202\n"
     ]
    }
   ],
   "source": [
    "flag=0\n",
    "for line_tmp in df.LINE_NO.unique():\n",
    "    print('Line no: {}'.format(line_tmp))\n",
    "    df_tmp = df.loc[df.LINE_NO==line_tmp]\n",
    "    HMind = df_tmp.index[df_tmp.CHANNEL_NO==2]\n",
    "    LMind = HMind+1\n",
    "    hmValid_lmInvalid = np.logical_and(df_tmp.loc[HMind,'VALID'].values==True,\n",
    "                                       df_tmp.loc[LMind,'VALID'].values==False)\n",
    "        \n",
    "    #Update rows and re-insert\n",
    "    rows = df_tmp.loc[LMind[hmValid_lmInvalid]].copy()\n",
    "    rows.VALID=True\n",
    "    df_tmp.loc[rows.index] = rows\n",
    "    print(rows.index)\n",
    "    \n",
    "    \n",
    "    \n",
    "    lmValid_hmInvalid = np.logical_and(df_tmp.loc[HMind,'VALID'].values==False,\n",
    "                                       df_tmp.loc[LMind,'VALID'].values==True)\n",
    "\n",
    "    rows = df_tmp.loc[LMind[lmValid_hmInvalid]].copy()\n",
    "#     print(rows.VALID)\n",
    "    print(rows.index)\n",
    "\n",
    "    rows.VALID=False\n",
    "    df_tmp.loc[rows.index] = rows\n",
    "\n",
    "    #Stack df_tmp to create df_new\n",
    "    if flag==0:\n",
    "        df_new = df_tmp.copy()\n",
    "        flag=1\n",
    "    else:\n",
    "        df_new = df_new.append(df_tmp)\n",
    "\n",
    "df = df_new.copy()\n"
   ]
  },
  {
   "cell_type": "markdown",
   "metadata": {},
   "source": [
    "### Check that there are no more hmValid_lmInvalid or lmValid_hmInvalid"
   ]
  },
  {
   "cell_type": "code",
   "execution_count": 126,
   "metadata": {},
   "outputs": [
    {
     "name": "stdout",
     "output_type": "stream",
     "text": [
      "101901 False False\n",
      "200901 False False\n",
      "200601 False False\n",
      "200401 False False\n",
      "100901 False False\n",
      "101001 False False\n",
      "201401 False False\n",
      "101101 False False\n",
      "201601 False False\n",
      "100801 False False\n",
      "100701 False False\n",
      "100601 False False\n",
      "201101 False False\n",
      "200301 False False\n",
      "200201 False False\n",
      "200101 False False\n",
      "100501 False False\n",
      "100301 False False\n",
      "100201 False False\n",
      "101601 False False\n",
      "101202 False False\n",
      "200203 False False\n",
      "200303 False False\n",
      "100203 False False\n",
      "100102 False False\n",
      "200802 False False\n",
      "201103 False False\n",
      "101702 False False\n",
      "101802 False False\n",
      "100602 False False\n",
      "101501 False False\n",
      "200501 False False\n",
      "2001001 False False\n",
      "101401 False False\n",
      "101301 False False\n",
      "100302 False False\n",
      "100401 False False\n",
      "201501 False False\n",
      "201701 False False\n",
      "201301 False False\n",
      "201201 False False\n",
      "200701 False False\n",
      "201202 False False\n"
     ]
    }
   ],
   "source": [
    "for line_tmp in df.LINE_NO.unique():\n",
    "    df_tmp = df.loc[df.LINE_NO==line_tmp]\n",
    "    HMind = df_tmp.index[df_tmp.CHANNEL_NO==2]\n",
    "    LMind = HMind+1\n",
    "\n",
    "    hmValid_lmInvalid = np.logical_and(df_tmp.loc[HMind,'VALID'].values==True,\n",
    "                                       df_tmp.loc[LMind,'VALID'].values==False)\n",
    "    lmValid_hmInvalid = np.logical_and(df_tmp.loc[LMind,'VALID'].values==True,\n",
    "                                   df_tmp.loc[HMind,'VALID'].values==False)\n",
    "\n",
    "    print(line_tmp,np.any(hmValid_lmInvalid),np.any(lmValid_hmInvalid))"
   ]
  },
  {
   "cell_type": "markdown",
   "metadata": {},
   "source": [
    "### Check that always alternating between LM/HM"
   ]
  },
  {
   "cell_type": "code",
   "execution_count": 127,
   "metadata": {},
   "outputs": [
    {
     "name": "stdout",
     "output_type": "stream",
     "text": [
      "101901 [nan -1.  1.]\n",
      "200901 [nan -1.  1.]\n",
      "200601 [nan -1.  1.]\n",
      "200401 [nan -1.  1.]\n",
      "100901 [nan -1.  1.]\n",
      "101001 [nan -1.  1.]\n",
      "201401 [nan -1.  1.]\n",
      "101101 [nan -1.  1.]\n",
      "201601 [nan -1.  1.]\n",
      "100801 [nan -1.  1.]\n",
      "100701 [nan -1.  1.]\n",
      "100601 [nan -1.  1.]\n",
      "201101 [nan -1.  1.]\n",
      "200301 [nan -1.  1.]\n",
      "200201 [nan -1.  1.]\n",
      "200101 [nan -1.  1.]\n",
      "100501 [nan -1.  1.]\n",
      "100301 [nan -1.  1.]\n",
      "100201 [nan -1.  1.]\n",
      "101601 [nan -1.  1.]\n",
      "101202 [nan -1.  1.]\n",
      "200203 [nan -1.  1.]\n",
      "200303 [nan -1.  1.]\n",
      "100203 [nan -1.  1.]\n",
      "100102 [nan -1.  1.]\n",
      "200802 [nan -1.  1.]\n",
      "201103 [nan -1.  1.]\n",
      "101702 [nan -1.  1.]\n",
      "101802 [nan -1.  1.]\n",
      "100602 [nan -1.  1.]\n",
      "101501 [nan -1.  1.]\n",
      "200501 [nan -1.  1.]\n",
      "2001001 [nan -1.  1.]\n",
      "101401 [nan -1.  1.]\n",
      "101301 [nan -1.  1.]\n",
      "100302 [nan -1.  1.]\n",
      "100401 [nan -1.  1.]\n",
      "201501 [nan -1.  1.]\n",
      "201701 [nan -1.  1.]\n",
      "201301 [nan -1.  1.]\n",
      "201201 [nan -1.  1.]\n",
      "200701 [nan -1.  1.]\n",
      "201202 [nan -1.  1.]\n"
     ]
    }
   ],
   "source": [
    "for line_tmp in df.LINE_NO.unique():\n",
    "    df_tmp = df.loc[df.LINE_NO==line_tmp]\n",
    "    print(line_tmp,df_tmp.CHANNEL_NO.diff().unique())\n",
    "#     print(line_tmp,np.any(hmValid_lmInvalid),np.any(lmValid_hmInvalid))"
   ]
  },
  {
   "cell_type": "code",
   "execution_count": 129,
   "metadata": {},
   "outputs": [],
   "source": [
    "df.to_pickle(datadir.joinpath('raw_processed_validated.pkl'))"
   ]
  },
  {
   "cell_type": "code",
   "execution_count": null,
   "metadata": {},
   "outputs": [],
   "source": []
  },
  {
   "cell_type": "code",
   "execution_count": null,
   "metadata": {},
   "outputs": [],
   "source": []
  }
 ],
 "metadata": {
  "kernelspec": {
   "display_name": "Python [conda env:SWIenv]",
   "language": "python",
   "name": "conda-env-SWIenv-py"
  },
  "language_info": {
   "codemirror_mode": {
    "name": "ipython",
    "version": 3
   },
   "file_extension": ".py",
   "mimetype": "text/x-python",
   "name": "python",
   "nbconvert_exporter": "python",
   "pygments_lexer": "ipython3",
   "version": "3.6.7"
  }
 },
 "nbformat": 4,
 "nbformat_minor": 2
}

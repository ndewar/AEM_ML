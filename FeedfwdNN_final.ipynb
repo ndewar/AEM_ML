{
 "cells": [
  {
   "cell_type": "code",
   "execution_count": 2,
   "metadata": {},
   "outputs": [
    {
     "name": "stderr",
     "output_type": "stream",
     "text": [
      "Using TensorFlow backend.\n",
      "/Users/ankushs/anaconda3/envs/AEM_ML/lib/python3.7/site-packages/tensorflow/python/framework/dtypes.py:526: FutureWarning: Passing (type, 1) or '1type' as a synonym of type is deprecated; in a future version of numpy, it will be understood as (type, (1,)) / '(1,)type'.\n",
      "  _np_qint8 = np.dtype([(\"qint8\", np.int8, 1)])\n",
      "/Users/ankushs/anaconda3/envs/AEM_ML/lib/python3.7/site-packages/tensorflow/python/framework/dtypes.py:527: FutureWarning: Passing (type, 1) or '1type' as a synonym of type is deprecated; in a future version of numpy, it will be understood as (type, (1,)) / '(1,)type'.\n",
      "  _np_quint8 = np.dtype([(\"quint8\", np.uint8, 1)])\n",
      "/Users/ankushs/anaconda3/envs/AEM_ML/lib/python3.7/site-packages/tensorflow/python/framework/dtypes.py:528: FutureWarning: Passing (type, 1) or '1type' as a synonym of type is deprecated; in a future version of numpy, it will be understood as (type, (1,)) / '(1,)type'.\n",
      "  _np_qint16 = np.dtype([(\"qint16\", np.int16, 1)])\n",
      "/Users/ankushs/anaconda3/envs/AEM_ML/lib/python3.7/site-packages/tensorflow/python/framework/dtypes.py:529: FutureWarning: Passing (type, 1) or '1type' as a synonym of type is deprecated; in a future version of numpy, it will be understood as (type, (1,)) / '(1,)type'.\n",
      "  _np_quint16 = np.dtype([(\"quint16\", np.uint16, 1)])\n",
      "/Users/ankushs/anaconda3/envs/AEM_ML/lib/python3.7/site-packages/tensorflow/python/framework/dtypes.py:530: FutureWarning: Passing (type, 1) or '1type' as a synonym of type is deprecated; in a future version of numpy, it will be understood as (type, (1,)) / '(1,)type'.\n",
      "  _np_qint32 = np.dtype([(\"qint32\", np.int32, 1)])\n",
      "/Users/ankushs/anaconda3/envs/AEM_ML/lib/python3.7/site-packages/tensorflow/python/framework/dtypes.py:535: FutureWarning: Passing (type, 1) or '1type' as a synonym of type is deprecated; in a future version of numpy, it will be understood as (type, (1,)) / '(1,)type'.\n",
      "  np_resource = np.dtype([(\"resource\", np.ubyte, 1)])\n"
     ]
    }
   ],
   "source": [
    "# load packages\n",
    "import numpy as np\n",
    "from keras import layers\n",
    "from keras.layers import Input, Dense, Activation, ZeroPadding2D, BatchNormalization, Flatten, Conv2D\n",
    "from keras.layers import AveragePooling2D, MaxPooling2D, Dropout, GlobalMaxPooling2D, GlobalAveragePooling2D\n",
    "from keras.models import Model\n",
    "from keras.preprocessing import image\n",
    "from keras.utils import layer_utils\n",
    "from keras.utils.data_utils import get_file\n",
    "from keras.applications.imagenet_utils import preprocess_input\n",
    "from IPython.display import SVG\n",
    "from keras.utils.vis_utils import model_to_dot\n",
    "from keras.utils import plot_model\n",
    "import keras\n",
    "import keras.backend as K\n",
    "K.set_image_data_format('channels_last')\n",
    "import matplotlib.pyplot as plt\n",
    "from matplotlib.pyplot import imshow\n",
    "\n",
    "import sklearn\n",
    "import sklearn.preprocessing\n",
    "\n",
    "%matplotlib inline\n",
    "\n",
    "import pandas\n",
    "import pickle\n",
    "import pydot"
   ]
  },
  {
   "cell_type": "markdown",
   "metadata": {},
   "source": [
    "# Import the two datasets"
   ]
  },
  {
   "cell_type": "code",
   "execution_count": 3,
   "metadata": {},
   "outputs": [
    {
     "name": "stdout",
     "output_type": "stream",
     "text": [
      "(24523, 4, 9, 37) (23411, 4, 9, 37)\n"
     ]
    }
   ],
   "source": [
    "\n",
    "# import the data, Butte\n",
    "dataButte = np.load('Butte_data/data_nadj4_stdTrue.npy')\n",
    "dataLabelsButte = np.load('Butte_data/labels_nadj4_stdTrue.npy')\n",
    "\n",
    "# format the labels\n",
    "temp = np.zeros((len(dataLabelsButte),1))\n",
    "temp[:,0] = dataLabelsButte\n",
    "dataLabelsButte = temp\n",
    "\n",
    "# Kaweah\n",
    "dataKaweah = np.load('Kaweah_data/data_nadj4_stdTrue.npy')\n",
    "dataLabelsKaweah = np.load('Kaweah_data/labels_nadj4_stdTrue.npy')\n",
    "\n",
    "# format the labels\n",
    "temp = np.zeros((len(dataLabelsKaweah),1))\n",
    "temp[:,0] = dataLabelsKaweah\n",
    "dataLabelsKaweah = temp\n",
    "\n",
    "print(np.shape(dataKaweah),np.shape(dataButte))\n"
   ]
  },
  {
   "cell_type": "markdown",
   "metadata": {},
   "source": [
    "# Data processing from Noah's notebook"
   ]
  },
  {
   "cell_type": "code",
   "execution_count": 4,
   "metadata": {},
   "outputs": [
    {
     "name": "stderr",
     "output_type": "stream",
     "text": [
      "/Users/ankushs/anaconda3/envs/AEM_ML/lib/python3.7/site-packages/numpy/core/fromnumeric.py:3335: RuntimeWarning: Mean of empty slice.\n",
      "  out=out, **kwargs)\n",
      "/Users/ankushs/anaconda3/envs/AEM_ML/lib/python3.7/site-packages/numpy/core/_methods.py:161: RuntimeWarning: invalid value encountered in double_scalars\n",
      "  ret = ret.dtype.type(ret / rcount)\n",
      "/Users/ankushs/anaconda3/envs/AEM_ML/lib/python3.7/site-packages/ipykernel_launcher.py:16: RuntimeWarning: invalid value encountered in less\n",
      "  app.launch_new_instance()\n",
      "/Users/ankushs/anaconda3/envs/AEM_ML/lib/python3.7/site-packages/numpy/core/fromnumeric.py:3335: RuntimeWarning: Mean of empty slice.\n",
      "  out=out, **kwargs)\n",
      "/Users/ankushs/anaconda3/envs/AEM_ML/lib/python3.7/site-packages/numpy/core/_methods.py:161: RuntimeWarning: invalid value encountered in double_scalars\n",
      "  ret = ret.dtype.type(ret / rcount)\n",
      "/Users/ankushs/anaconda3/envs/AEM_ML/lib/python3.7/site-packages/ipykernel_launcher.py:54: RuntimeWarning: invalid value encountered in less\n"
     ]
    },
    {
     "name": "stdout",
     "output_type": "stream",
     "text": [
      "(23411, 9, 37, 4) (24523, 9, 37, 4) (47934, 9, 37, 4)\n"
     ]
    }
   ],
   "source": [
    "# do the do for Butte\n",
    "# reshuffle the vectors\n",
    "data_preped=np.transpose(dataButte, (0, 2, 3, 1))\n",
    "\n",
    "# set large values to mean of that dimension\n",
    "for k in range(0,37):\n",
    "    for m in range(0,4):\n",
    "        \n",
    "        # get the current timegate\n",
    "        currData=data_preped[:,:,k,m]\n",
    "\n",
    "        # set values over 5000 to the mean of the timegate\n",
    "        currData[np.abs(currData)>5000]=np.mean(currData[np.abs(currData)<5000])\n",
    "\n",
    "        # do the same to nans\n",
    "        currData=np.nan_to_num(currData, nan=np.mean(currData[np.abs(currData)<5000]))\n",
    "\n",
    "        # put it back\n",
    "        data_preped[:,:,k,m]=currData\n",
    "        \n",
    "# look at the data\n",
    "#plt.hist(data_preped[:,4,28,1])\n",
    "\n",
    "# set nans to 0 (there shouldnt be any but who knows)\n",
    "X_Butte=np.nan_to_num(data_preped)\n",
    "\n",
    "# scale each timegate to be between -1 and 1\n",
    "min_max_scaler = sklearn.preprocessing.MinMaxScaler(feature_range=(-1, 1))\n",
    "for i in range(np.shape(X_Butte)[-1]):\n",
    "    for j in range(np.shape(X_Butte)[1]):\n",
    "        \n",
    "        # do it for all examples, for this moment\n",
    "        X_Butte[:,j,:,i] = min_max_scaler.fit_transform(X_Butte[:,j,:,i])\n",
    "        \n",
    "        # for the timegates where the LM never exists, set it back to 0 so it sits in the middle of the scaled range\n",
    "        for k in range(np.shape(X_Butte)[2]):\n",
    "            if i==1 or i==3:\n",
    "                if k>=28:\n",
    "                    X_Butte[:,j,k,i]=X_Butte[:,j,k,i]-X_Butte[:,j,k,i]\n",
    "\n",
    "# reshuffle the vectors for Kaweah\n",
    "data_preped=np.transpose(dataKaweah, (0, 2, 3, 1))\n",
    "# set large values to mean of that dimension\n",
    "for k in range(0,37):\n",
    "    for m in range(0,4):\n",
    "        \n",
    "        # get the current timegate\n",
    "        currData=data_preped[:,:,k,m]\n",
    "\n",
    "        # set values over 5000 to the mean of the timegate\n",
    "        currData[np.abs(currData)>5000]=np.mean(currData[np.abs(currData)<5000])\n",
    "\n",
    "        # do the same to nans\n",
    "        currData=np.nan_to_num(currData, nan=np.mean(currData[np.abs(currData)<5000]))\n",
    "\n",
    "        # put it back\n",
    "        data_preped[:,:,k,m]=currData\n",
    "        \n",
    "# look at the data\n",
    "#plt.hist(data_preped[:,4,28,1])\n",
    "\n",
    "# set nans to 0 (there shouldnt be any but who knows)\n",
    "X_Kaweah=np.nan_to_num(data_preped)\n",
    "\n",
    "# scale each timegate to be between -1 and 1\n",
    "min_max_scaler = sklearn.preprocessing.MinMaxScaler(feature_range=(-1, 1))\n",
    "for i in range(np.shape(X_Kaweah)[-1]):\n",
    "    for j in range(np.shape(X_Kaweah)[1]):\n",
    "        \n",
    "        # do it for all examples, for this moment\n",
    "        X_Kaweah[:,j,:,i] = min_max_scaler.fit_transform(X_Kaweah[:,j,:,i])\n",
    "        \n",
    "        # for the timegates where the LM never exists, set it back to 0 so it sits in the middle of the scaled range\n",
    "        for k in range(np.shape(X_Kaweah)[2]):\n",
    "            if i==1 or i==3:\n",
    "                if k>=28:\n",
    "                    X_Kaweah[:,j,k,i]=X_Kaweah[:,j,k,i]-X_Kaweah[:,j,k,i]\n",
    "\n",
    "                    \n",
    "# combine them\n",
    "X_both=np.concatenate((X_Butte,X_Kaweah),axis=0)\n",
    "dataLabelsBoth=np.concatenate((dataLabelsButte,dataLabelsKaweah),axis=0)\n",
    "print(np.shape(X_Butte),np.shape(X_Kaweah),np.shape(X_both))"
   ]
  },
  {
   "cell_type": "markdown",
   "metadata": {},
   "source": [
    "# Creating mixed training and test datasets from Noah's notebook for consistency"
   ]
  },
  {
   "cell_type": "code",
   "execution_count": 5,
   "metadata": {},
   "outputs": [
    {
     "name": "stdout",
     "output_type": "stream",
     "text": [
      "number of training examples = 20000\n",
      "number of test examples = 3411\n",
      "X_train1 shape: (20000, 9, 37, 4)\n",
      "Y_train1 shape: (20000, 1)\n",
      "X_test1 shape: (3411, 9, 37, 4)\n",
      "Y_test1 shape: (3411, 1)\n"
     ]
    }
   ],
   "source": [
    "\n",
    "# make some random indices, then take 20000 examples for training and the rest for test, results in about 85/15 split\n",
    "# first is butte on butte\n",
    "indices=np.random.permutation(X_Butte.shape[0])\n",
    "X_train1=X_Butte[indices[:20000],:,:,:]\n",
    "X_test1=X_Butte[indices[20000:],:,:,:]\n",
    "Y_train1=dataLabelsButte[indices[:20000],:]\n",
    "Y_test1=dataLabelsButte[indices[20000:],:]\n",
    "\n",
    "# 2nd is Kaweah on Kaweah\n",
    "indices=np.random.permutation(X_Kaweah.shape[0])\n",
    "X_train2=X_Kaweah[indices[:20000],:,:,:]\n",
    "X_test2=X_Kaweah[indices[20000:],:,:,:]\n",
    "Y_train2=dataLabelsKaweah[indices[:20000],:]\n",
    "Y_test2=dataLabelsKaweah[indices[20000:],:]\n",
    "\n",
    "# 3rd is both on both\n",
    "indices=np.random.permutation(X_both.shape[0])\n",
    "X_train3=X_both[indices[:41000],:,:,:]\n",
    "X_test3=X_both[indices[41000:],:,:,:]\n",
    "Y_train3=dataLabelsBoth[indices[:41000],:]\n",
    "Y_test3=dataLabelsBoth[indices[41000:],:]\n",
    "\n",
    "# 4th is butte on Kaweah\n",
    "X_train4=X_Butte\n",
    "X_test4=X_Kaweah\n",
    "Y_train4=dataLabelsButte\n",
    "Y_test4=dataLabelsKaweah\n",
    "\n",
    "# 5th is Kaweah on Butte\n",
    "X_train5=X_Kaweah\n",
    "X_test5=X_Butte\n",
    "Y_train5=dataLabelsKaweah\n",
    "Y_test5=dataLabelsButte\n",
    "\n",
    "# 6th is butte with 0.5% of Kaweah\n",
    "percentToUse=0.5\n",
    "indices=np.random.permutation(X_Kaweah.shape[0])\n",
    "X_train6=np.concatenate((X_Butte,X_Kaweah[indices[:np.int(np.round(485000*(percentToUse/100)))],:,:,:]),axis=0)\n",
    "X_test6=X_Kaweah[indices[np.int(np.round(485000*(percentToUse/100))):],:,:,:]\n",
    "Y_train6=np.concatenate((dataLabelsButte,dataLabelsKaweah[indices[:np.int(np.round(485000*(percentToUse/100)))],:]),axis=0)\n",
    "Y_test6=dataLabelsKaweah[indices[np.int(np.round(485000*(percentToUse/100))):],:]\n",
    "\n",
    "# 7th is butte with 1% of Kaweah\n",
    "percentToUse=1\n",
    "indices=np.random.permutation(X_Kaweah.shape[0])\n",
    "X_train7=np.concatenate((X_Butte,X_Kaweah[indices[:np.int(np.round(485000*(percentToUse/100)))],:,:,:]),axis=0)\n",
    "X_test7=X_Kaweah[indices[np.int(np.round(485000*(percentToUse/100))):],:,:,:]\n",
    "Y_train7=np.concatenate((dataLabelsButte,dataLabelsKaweah[indices[:np.int(np.round(485000*(percentToUse/100)))],:]),axis=0)\n",
    "Y_test7=dataLabelsKaweah[indices[np.int(np.round(485000*(percentToUse/100))):],:]\n",
    "\n",
    "# 8th is butte with 0.1% of Kaweah\n",
    "percentToUse=0.1\n",
    "indices=np.random.permutation(X_Kaweah.shape[0])\n",
    "X_train8=np.concatenate((X_Butte,X_Kaweah[indices[:np.int(np.round(485000*(percentToUse/100)))],:,:,:]),axis=0)\n",
    "X_test8=X_Kaweah[indices[np.int(np.round(485000*(percentToUse/100))):],:,:,:]\n",
    "Y_train8=np.concatenate((dataLabelsButte,dataLabelsKaweah[indices[:np.int(np.round(485000*(percentToUse/100)))],:]),axis=0)\n",
    "Y_test8=dataLabelsKaweah[indices[np.int(np.round(485000*(percentToUse/100))):],:]\n",
    "\n",
    "\n",
    "# Print an example\n",
    "print (\"number of training examples = \" + str(X_train1.shape[0]))\n",
    "print (\"number of test examples = \" + str(X_test1.shape[0]))\n",
    "print (\"X_train1 shape: \" + str(X_train1.shape))\n",
    "print (\"Y_train1 shape: \" + str(Y_train1.shape))\n",
    "print (\"X_test1 shape: \" + str(X_test1.shape))\n",
    "print (\"Y_test1 shape: \" + str(Y_test1.shape))\n"
   ]
  },
  {
   "cell_type": "markdown",
   "metadata": {},
   "source": [
    "# Defining the layers in the simple fc only 3 layer model"
   ]
  },
  {
   "cell_type": "code",
   "execution_count": 6,
   "metadata": {},
   "outputs": [],
   "source": [
    "\n",
    "def fc_only_model(input_shape):\n",
    "\n",
    "     model = keras.models.Sequential()\n",
    "    \n",
    "    # make the initializer\n",
    "   \n",
    "     initToUse=keras.initializers.he_normal(seed=1)\n",
    "     model.add(Flatten())\n",
    "     model.add(Dense(250, activation='relu',kernel_initializer=initToUse))\n",
    "     model.add(Dense(100, activation='relu', kernel_initializer=initToUse))\n",
    "     model.add(Dense(35, activation='relu', kernel_initializer=initToUse))\n",
    "     model.add(Dense(1, activation='sigmoid', kernel_initializer=initToUse))\n",
    "    \n",
    "     return model\n",
    "\n"
   ]
  },
  {
   "cell_type": "markdown",
   "metadata": {},
   "source": [
    "# Defining the model run and computing accuracy on test set"
   ]
  },
  {
   "cell_type": "code",
   "execution_count": 7,
   "metadata": {},
   "outputs": [],
   "source": [
    "def run_compute_model(X_train, Y_train, X_test, Y_test):\n",
    "\n",
    "    fc_model = fc_only_model(X_train.shape[1:])\n",
    "    fc_model.compile(optimizer = \"adam\", loss = 'binary_crossentropy', metrics = [\"accuracy\"])\n",
    "    fc_model.fit(X_train, Y_train, epochs=40, batch_size=500, verbose=False)\n",
    "    pred = fc_model.evaluate(x=X_test, y=Y_test)\n",
    "    accuracy = pred[1]\n",
    "\n",
    "    return accuracy"
   ]
  },
  {
   "cell_type": "code",
   "execution_count": 30,
   "metadata": {},
   "outputs": [
    {
     "name": "stdout",
     "output_type": "stream",
     "text": [
      "Model: \"sequential_18\"\n",
      "_________________________________________________________________\n",
      "Layer (type)                 Output Shape              Param #   \n",
      "=================================================================\n",
      "flatten_17 (Flatten)         (None, 1332)              0         \n",
      "_________________________________________________________________\n",
      "dense_66 (Dense)             (None, 250)               333250    \n",
      "_________________________________________________________________\n",
      "dense_67 (Dense)             (None, 100)               25100     \n",
      "_________________________________________________________________\n",
      "dense_68 (Dense)             (None, 35)                3535      \n",
      "_________________________________________________________________\n",
      "dense_69 (Dense)             (None, 1)                 36        \n",
      "=================================================================\n",
      "Total params: 361,921\n",
      "Trainable params: 361,921\n",
      "Non-trainable params: 0\n",
      "_________________________________________________________________\n",
      "None\n"
     ]
    },
    {
     "data": {
      "image/svg+xml": [
       "<svg height=\"547pt\" viewBox=\"0.00 0.00 207.12 410.00\" width=\"276pt\" xmlns=\"http://www.w3.org/2000/svg\" xmlns:xlink=\"http://www.w3.org/1999/xlink\">\n",
       "<g class=\"graph\" id=\"graph0\" transform=\"scale(0.75 0.75) rotate(0) translate(4 406)\">\n",
       "<title>G</title>\n",
       "<polygon fill=\"white\" points=\"-4,4 -4,-406 203.12,-406 203.12,4 -4,4\" stroke=\"transparent\"/>\n",
       "<!-- 140218618364240 -->\n",
       "<g class=\"node\" id=\"node1\">\n",
       "<title>140218618364240</title>\n",
       "<polygon fill=\"none\" points=\"0,-365.5 0,-401.5 199.12,-401.5 199.12,-365.5 0,-365.5\" stroke=\"black\"/>\n",
       "<text font-family=\"Times,serif\" font-size=\"14.00\" text-anchor=\"middle\" x=\"99.56\" y=\"-379.3\">sequential_18_input: InputLayer</text>\n",
       "</g>\n",
       "<!-- 140217944407312 -->\n",
       "<g class=\"node\" id=\"node2\">\n",
       "<title>140217944407312</title>\n",
       "<polygon fill=\"none\" points=\"40.43,-292.5 40.43,-328.5 158.69,-328.5 158.69,-292.5 40.43,-292.5\" stroke=\"black\"/>\n",
       "<text font-family=\"Times,serif\" font-size=\"14.00\" text-anchor=\"middle\" x=\"99.56\" y=\"-306.3\">flatten_17: Flatten</text>\n",
       "</g>\n",
       "<!-- 140218618364240&#45;&gt;140217944407312 -->\n",
       "<g class=\"edge\" id=\"edge1\">\n",
       "<title>140218618364240-&gt;140217944407312</title>\n",
       "<path d=\"M99.56,-365.31C99.56,-357.29 99.56,-347.55 99.56,-338.57\" fill=\"none\" stroke=\"black\"/>\n",
       "<polygon fill=\"black\" points=\"103.06,-338.53 99.56,-328.53 96.06,-338.53 103.06,-338.53\" stroke=\"black\"/>\n",
       "</g>\n",
       "<!-- 140217944406928 -->\n",
       "<g class=\"node\" id=\"node3\">\n",
       "<title>140217944406928</title>\n",
       "<polygon fill=\"none\" points=\"43.93,-219.5 43.93,-255.5 155.19,-255.5 155.19,-219.5 43.93,-219.5\" stroke=\"black\"/>\n",
       "<text font-family=\"Times,serif\" font-size=\"14.00\" text-anchor=\"middle\" x=\"99.56\" y=\"-233.3\">dense_66: Dense</text>\n",
       "</g>\n",
       "<!-- 140217944407312&#45;&gt;140217944406928 -->\n",
       "<g class=\"edge\" id=\"edge2\">\n",
       "<title>140217944407312-&gt;140217944406928</title>\n",
       "<path d=\"M99.56,-292.31C99.56,-284.29 99.56,-274.55 99.56,-265.57\" fill=\"none\" stroke=\"black\"/>\n",
       "<polygon fill=\"black\" points=\"103.06,-265.53 99.56,-255.53 96.06,-265.53 103.06,-265.53\" stroke=\"black\"/>\n",
       "</g>\n",
       "<!-- 140217944406480 -->\n",
       "<g class=\"node\" id=\"node4\">\n",
       "<title>140217944406480</title>\n",
       "<polygon fill=\"none\" points=\"43.93,-146.5 43.93,-182.5 155.19,-182.5 155.19,-146.5 43.93,-146.5\" stroke=\"black\"/>\n",
       "<text font-family=\"Times,serif\" font-size=\"14.00\" text-anchor=\"middle\" x=\"99.56\" y=\"-160.3\">dense_67: Dense</text>\n",
       "</g>\n",
       "<!-- 140217944406928&#45;&gt;140217944406480 -->\n",
       "<g class=\"edge\" id=\"edge3\">\n",
       "<title>140217944406928-&gt;140217944406480</title>\n",
       "<path d=\"M99.56,-219.31C99.56,-211.29 99.56,-201.55 99.56,-192.57\" fill=\"none\" stroke=\"black\"/>\n",
       "<polygon fill=\"black\" points=\"103.06,-192.53 99.56,-182.53 96.06,-192.53 103.06,-192.53\" stroke=\"black\"/>\n",
       "</g>\n",
       "<!-- 140217944406096 -->\n",
       "<g class=\"node\" id=\"node5\">\n",
       "<title>140217944406096</title>\n",
       "<polygon fill=\"none\" points=\"43.93,-73.5 43.93,-109.5 155.19,-109.5 155.19,-73.5 43.93,-73.5\" stroke=\"black\"/>\n",
       "<text font-family=\"Times,serif\" font-size=\"14.00\" text-anchor=\"middle\" x=\"99.56\" y=\"-87.3\">dense_68: Dense</text>\n",
       "</g>\n",
       "<!-- 140217944406480&#45;&gt;140217944406096 -->\n",
       "<g class=\"edge\" id=\"edge4\">\n",
       "<title>140217944406480-&gt;140217944406096</title>\n",
       "<path d=\"M99.56,-146.31C99.56,-138.29 99.56,-128.55 99.56,-119.57\" fill=\"none\" stroke=\"black\"/>\n",
       "<polygon fill=\"black\" points=\"103.06,-119.53 99.56,-109.53 96.06,-119.53 103.06,-119.53\" stroke=\"black\"/>\n",
       "</g>\n",
       "<!-- 140217944404880 -->\n",
       "<g class=\"node\" id=\"node6\">\n",
       "<title>140217944404880</title>\n",
       "<polygon fill=\"none\" points=\"43.93,-0.5 43.93,-36.5 155.19,-36.5 155.19,-0.5 43.93,-0.5\" stroke=\"black\"/>\n",
       "<text font-family=\"Times,serif\" font-size=\"14.00\" text-anchor=\"middle\" x=\"99.56\" y=\"-14.3\">dense_69: Dense</text>\n",
       "</g>\n",
       "<!-- 140217944406096&#45;&gt;140217944404880 -->\n",
       "<g class=\"edge\" id=\"edge5\">\n",
       "<title>140217944406096-&gt;140217944404880</title>\n",
       "<path d=\"M99.56,-73.31C99.56,-65.29 99.56,-55.55 99.56,-46.57\" fill=\"none\" stroke=\"black\"/>\n",
       "<polygon fill=\"black\" points=\"103.06,-46.53 99.56,-36.53 96.06,-46.53 103.06,-46.53\" stroke=\"black\"/>\n",
       "</g>\n",
       "</g>\n",
       "</svg>"
      ],
      "text/plain": [
       "<IPython.core.display.SVG object>"
      ]
     },
     "execution_count": 30,
     "metadata": {},
     "output_type": "execute_result"
    }
   ],
   "source": [
    " \n",
    "from keras.utils.vis_utils import plot_model\n",
    "fc_model = fc_only_model(X_train1.shape[1:])\n",
    "plot_model(fc_model, to_file='model_plot.png', dpi=400, show_shapes=True, show_layer_names=True)\n",
    "fc_model.compile(optimizer = \"adam\", loss = 'binary_crossentropy', metrics = [\"accuracy\"])\n",
    "fc_model.fit(X_train1, Y_train1, epochs=40, batch_size=500, verbose=False)\n",
    "print(fc_model.summary())\n",
    "from IPython.display import SVG\n",
    "from keras.utils import model_to_dot\n",
    "\n",
    "SVG(model_to_dot(fc_model).create(prog='dot', format='svg'))"
   ]
  },
  {
   "cell_type": "markdown",
   "metadata": {},
   "source": [
    "# Fit datasets to different training and evaluate over corresponding test sets"
   ]
  },
  {
   "cell_type": "code",
   "execution_count": 8,
   "metadata": {},
   "outputs": [
    {
     "name": "stdout",
     "output_type": "stream",
     "text": [
      "WARNING:tensorflow:From /Users/ankushs/anaconda3/envs/AEM_ML/lib/python3.7/site-packages/tensorflow/python/ops/resource_variable_ops.py:435: colocate_with (from tensorflow.python.framework.ops) is deprecated and will be removed in a future version.\n",
      "Instructions for updating:\n",
      "Colocations handled automatically by placer.\n",
      "WARNING:tensorflow:From /Users/ankushs/anaconda3/envs/AEM_ML/lib/python3.7/site-packages/tensorflow/python/ops/math_ops.py:3066: to_int32 (from tensorflow.python.ops.math_ops) is deprecated and will be removed in a future version.\n",
      "Instructions for updating:\n",
      "Use tf.cast instead.\n",
      "3411/3411 [==============================] - 0s 30us/step\n",
      "4523/4523 [==============================] - 0s 32us/step\n",
      "6934/6934 [==============================] - 0s 29us/step\n",
      "24523/24523 [==============================] - 1s 28us/step\n",
      "23411/23411 [==============================] - 1s 26us/step\n",
      "22098/22098 [==============================] - 1s 40us/step\n",
      "19673/19673 [==============================] - 1s 48us/step\n",
      "24038/24038 [==============================] - 1s 39us/step\n"
     ]
    }
   ],
   "source": [
    "Accuracy_set1 = run_compute_model(X_train1, Y_train1, X_test1, Y_test1)\n",
    "Accuracy_set2 = run_compute_model(X_train2, Y_train2, X_test2, Y_test2)\n",
    "Accuracy_set3 = run_compute_model(X_train3, Y_train3, X_test3, Y_test3)\n",
    "Accuracy_set4 = run_compute_model(X_train4, Y_train4, X_test4, Y_test4)\n",
    "Accuracy_set5 = run_compute_model(X_train5, Y_train5, X_test5, Y_test5)\n",
    "Accuracy_set6 = run_compute_model(X_train6, Y_train6, X_test6, Y_test6)\n",
    "Accuracy_set7 = run_compute_model(X_train7, Y_train7, X_test7, Y_test7)\n",
    "Accuracy_set8 = run_compute_model(X_train8, Y_train8, X_test8, Y_test8)\n"
   ]
  },
  {
   "cell_type": "markdown",
   "metadata": {},
   "source": [
    "# Print Accuracies"
   ]
  },
  {
   "cell_type": "code",
   "execution_count": 9,
   "metadata": {},
   "outputs": [
    {
     "name": "stdout",
     "output_type": "stream",
     "text": [
      "Set 1 accuracy:  0.9994136691093445\n",
      "Set 2 accuracy:  0.9955781698226929\n",
      "Set 3 accuracy:  0.9734640717506409\n",
      "Set 4 accuracy:  0.5905476212501526\n",
      "Set 5 accuracy:  0.23177139461040497\n",
      "Set 6 accuracy:  0.8993573784828186\n",
      "Set 7 accuracy:  0.9350886940956116\n",
      "Set 8 accuracy:  0.5868208408355713\n"
     ]
    }
   ],
   "source": [
    "print(\"Set 1 accuracy: \", str(Accuracy_set1))\n",
    "print(\"Set 2 accuracy: \", str(Accuracy_set2))\n",
    "print(\"Set 3 accuracy: \", str(Accuracy_set3))\n",
    "print(\"Set 4 accuracy: \", str(Accuracy_set4))\n",
    "print(\"Set 5 accuracy: \", str(Accuracy_set5))\n",
    "print(\"Set 6 accuracy: \", str(Accuracy_set6))\n",
    "print(\"Set 7 accuracy: \", str(Accuracy_set7))\n",
    "print(\"Set 8 accuracy: \", str(Accuracy_set8))"
   ]
  },
  {
   "cell_type": "markdown",
   "metadata": {},
   "source": [
    "# Plot loss vs number of epochs for training and hold out CV set"
   ]
  },
  {
   "cell_type": "code",
   "execution_count": 21,
   "metadata": {},
   "outputs": [
    {
     "name": "stdout",
     "output_type": "stream",
     "text": [
      "Train on 18000 samples, validate on 2000 samples\n",
      "Epoch 1/40\n",
      "18000/18000 [==============================] - 1s 41us/step - loss: 0.4448 - accuracy: 0.8186 - val_loss: 0.4029 - val_accuracy: 0.8505\n",
      "Epoch 2/40\n",
      "18000/18000 [==============================] - 0s 20us/step - loss: 0.3491 - accuracy: 0.8646 - val_loss: 0.3263 - val_accuracy: 0.8635\n",
      "Epoch 3/40\n",
      "18000/18000 [==============================] - 0s 24us/step - loss: 0.2631 - accuracy: 0.8973 - val_loss: 0.2505 - val_accuracy: 0.9155\n",
      "Epoch 4/40\n",
      "18000/18000 [==============================] - 0s 22us/step - loss: 0.2004 - accuracy: 0.9348 - val_loss: 0.1997 - val_accuracy: 0.9310\n",
      "Epoch 5/40\n",
      "18000/18000 [==============================] - 0s 22us/step - loss: 0.1592 - accuracy: 0.9554 - val_loss: 0.1539 - val_accuracy: 0.9595\n",
      "Epoch 6/40\n",
      "18000/18000 [==============================] - 0s 23us/step - loss: 0.1271 - accuracy: 0.9718 - val_loss: 0.1260 - val_accuracy: 0.9690\n",
      "Epoch 7/40\n",
      "18000/18000 [==============================] - 0s 24us/step - loss: 0.1115 - accuracy: 0.9738 - val_loss: 0.1338 - val_accuracy: 0.9460\n",
      "Epoch 8/40\n",
      "18000/18000 [==============================] - 0s 25us/step - loss: 0.0899 - accuracy: 0.9798 - val_loss: 0.0896 - val_accuracy: 0.9795\n",
      "Epoch 9/40\n",
      "18000/18000 [==============================] - 0s 23us/step - loss: 0.0809 - accuracy: 0.9834 - val_loss: 0.1258 - val_accuracy: 0.9545\n",
      "Epoch 10/40\n",
      "18000/18000 [==============================] - 0s 21us/step - loss: 0.0684 - accuracy: 0.9859 - val_loss: 0.0764 - val_accuracy: 0.9805\n",
      "Epoch 11/40\n",
      "18000/18000 [==============================] - 0s 23us/step - loss: 0.0606 - accuracy: 0.9873 - val_loss: 0.0634 - val_accuracy: 0.9845\n",
      "Epoch 12/40\n",
      "18000/18000 [==============================] - 0s 23us/step - loss: 0.0516 - accuracy: 0.9884 - val_loss: 0.0562 - val_accuracy: 0.9870\n",
      "Epoch 13/40\n",
      "18000/18000 [==============================] - 0s 23us/step - loss: 0.0456 - accuracy: 0.9896 - val_loss: 0.0556 - val_accuracy: 0.9830\n",
      "Epoch 14/40\n",
      "18000/18000 [==============================] - 0s 22us/step - loss: 0.0396 - accuracy: 0.9908 - val_loss: 0.0457 - val_accuracy: 0.9900\n",
      "Epoch 15/40\n",
      "18000/18000 [==============================] - 0s 21us/step - loss: 0.0353 - accuracy: 0.9918 - val_loss: 0.0386 - val_accuracy: 0.9930\n",
      "Epoch 16/40\n",
      "18000/18000 [==============================] - 0s 23us/step - loss: 0.0335 - accuracy: 0.9921 - val_loss: 0.0380 - val_accuracy: 0.9900\n",
      "Epoch 17/40\n",
      "18000/18000 [==============================] - 0s 25us/step - loss: 0.0327 - accuracy: 0.9927 - val_loss: 0.0595 - val_accuracy: 0.9835\n",
      "Epoch 18/40\n",
      "18000/18000 [==============================] - 0s 27us/step - loss: 0.0297 - accuracy: 0.9936 - val_loss: 0.0328 - val_accuracy: 0.9930\n",
      "Epoch 19/40\n",
      "18000/18000 [==============================] - 0s 23us/step - loss: 0.0232 - accuracy: 0.9956 - val_loss: 0.0321 - val_accuracy: 0.9935\n",
      "Epoch 20/40\n",
      "18000/18000 [==============================] - 0s 24us/step - loss: 0.0222 - accuracy: 0.9963 - val_loss: 0.0286 - val_accuracy: 0.9950\n",
      "Epoch 21/40\n",
      "18000/18000 [==============================] - 0s 26us/step - loss: 0.0214 - accuracy: 0.9962 - val_loss: 0.0274 - val_accuracy: 0.9935\n",
      "Epoch 22/40\n",
      "18000/18000 [==============================] - 0s 25us/step - loss: 0.0176 - accuracy: 0.9971 - val_loss: 0.0240 - val_accuracy: 0.9960\n",
      "Epoch 23/40\n",
      "18000/18000 [==============================] - 0s 21us/step - loss: 0.0190 - accuracy: 0.9969 - val_loss: 0.0230 - val_accuracy: 0.9960\n",
      "Epoch 24/40\n",
      "18000/18000 [==============================] - 0s 24us/step - loss: 0.0174 - accuracy: 0.9969 - val_loss: 0.0226 - val_accuracy: 0.9960\n",
      "Epoch 25/40\n",
      "18000/18000 [==============================] - 0s 24us/step - loss: 0.0171 - accuracy: 0.9973 - val_loss: 0.0222 - val_accuracy: 0.9955\n",
      "Epoch 26/40\n",
      "18000/18000 [==============================] - 0s 23us/step - loss: 0.0141 - accuracy: 0.9981 - val_loss: 0.0195 - val_accuracy: 0.9960\n",
      "Epoch 27/40\n",
      "18000/18000 [==============================] - 0s 25us/step - loss: 0.0134 - accuracy: 0.9978 - val_loss: 0.0185 - val_accuracy: 0.9965\n",
      "Epoch 28/40\n",
      "18000/18000 [==============================] - 0s 25us/step - loss: 0.0122 - accuracy: 0.9980 - val_loss: 0.0183 - val_accuracy: 0.9960\n",
      "Epoch 29/40\n",
      "18000/18000 [==============================] - 0s 27us/step - loss: 0.0121 - accuracy: 0.9976 - val_loss: 0.0196 - val_accuracy: 0.9960\n",
      "Epoch 30/40\n",
      "18000/18000 [==============================] - 0s 27us/step - loss: 0.0121 - accuracy: 0.9978 - val_loss: 0.0159 - val_accuracy: 0.9965\n",
      "Epoch 31/40\n",
      "18000/18000 [==============================] - 0s 25us/step - loss: 0.0099 - accuracy: 0.9982 - val_loss: 0.0173 - val_accuracy: 0.9960\n",
      "Epoch 32/40\n",
      "18000/18000 [==============================] - 0s 26us/step - loss: 0.0096 - accuracy: 0.9981 - val_loss: 0.0147 - val_accuracy: 0.9965\n",
      "Epoch 33/40\n",
      "18000/18000 [==============================] - 0s 24us/step - loss: 0.0170 - accuracy: 0.9951 - val_loss: 0.0243 - val_accuracy: 0.9955\n",
      "Epoch 34/40\n",
      "18000/18000 [==============================] - 0s 26us/step - loss: 0.0787 - accuracy: 0.9698 - val_loss: 0.0303 - val_accuracy: 0.9930\n",
      "Epoch 35/40\n",
      "18000/18000 [==============================] - 0s 25us/step - loss: 0.0142 - accuracy: 0.9962 - val_loss: 0.0180 - val_accuracy: 0.9970\n",
      "Epoch 36/40\n",
      "18000/18000 [==============================] - 0s 24us/step - loss: 0.0114 - accuracy: 0.9976 - val_loss: 0.0231 - val_accuracy: 0.9930\n",
      "Epoch 37/40\n",
      "18000/18000 [==============================] - 0s 24us/step - loss: 0.0110 - accuracy: 0.9978 - val_loss: 0.0150 - val_accuracy: 0.9965\n",
      "Epoch 38/40\n",
      "18000/18000 [==============================] - 0s 24us/step - loss: 0.0088 - accuracy: 0.9983 - val_loss: 0.0154 - val_accuracy: 0.9970\n",
      "Epoch 39/40\n",
      "18000/18000 [==============================] - 0s 24us/step - loss: 0.0073 - accuracy: 0.9983 - val_loss: 0.0140 - val_accuracy: 0.9965\n",
      "Epoch 40/40\n",
      "18000/18000 [==============================] - 0s 21us/step - loss: 0.0080 - accuracy: 0.9983 - val_loss: 0.0134 - val_accuracy: 0.9975\n",
      "dict_keys(['val_loss', 'val_accuracy', 'loss', 'accuracy'])\n"
     ]
    }
   ],
   "source": [
    "# create model\n",
    "check_model = keras.models.Sequential()\n",
    "check_model.add(Flatten())\n",
    "check_model.add(Dense(25, activation='relu'))\n",
    "check_model.add(Dense(100, activation='relu'))\n",
    "check_model.add(Dense(1, activation='sigmoid'))\n",
    "\n",
    "# Compile model\n",
    "check_model.compile(loss='binary_crossentropy', optimizer='adam', metrics=['accuracy'])\n",
    "# Fit the model\n",
    "history = check_model.fit(X_train1, Y_train1, validation_split=0.1, epochs=40, batch_size=500, verbose=True)\n",
    "# list all data in history\n",
    "print(history.history.keys())\n"
   ]
  },
  {
   "cell_type": "code",
   "execution_count": 23,
   "metadata": {},
   "outputs": [
    {
     "data": {
      "image/png": "[encoded data removed]",
      "text/plain": [
       "<Figure size 432x288 with 1 Axes>"
      ]
     },
     "metadata": {
      "needs_background": "light"
     },
     "output_type": "display_data"
    },
    {
     "data": {
      "image/png": "[encoded data removed]",
      "text/plain": [
       "<Figure size 432x288 with 1 Axes>"
      ]
     },
     "metadata": {
      "needs_background": "light"
     },
     "output_type": "display_data"
    }
   ],
   "source": [
    "# summarize history for accuracy\n",
    "plt.plot(history.history['accuracy'])\n",
    "plt.plot(history.history['val_accuracy'])\n",
    "plt.title('model accuracy')\n",
    "plt.ylabel('accuracy')\n",
    "plt.xlabel('epoch')\n",
    "plt.legend(['train', 'validation'], loc='upper left')\n",
    "plt.tight_layout()\n",
    "plt.savefig('Train_val_accuracy_FFN.png',dpi=400)\n",
    "plt.show()\n",
    "# summarize history for loss\n",
    "plt.plot(history.history['loss'])\n",
    "plt.plot(history.history['val_loss'])\n",
    "plt.title('model loss')\n",
    "plt.ylabel('loss')\n",
    "plt.xlabel('epoch')\n",
    "plt.legend(['train', 'val'], loc='upper left')\n",
    "plt.tight_layout()\n",
    "plt.savefig('Train_val_loss_FFN.png',dpi=400)\n",
    "plt.show()\n",
    "\n"
   ]
  },
  {
   "cell_type": "markdown",
   "metadata": {},
   "source": [
    "# Check the data shape works"
   ]
  },
  {
   "cell_type": "code",
   "execution_count": 12,
   "metadata": {},
   "outputs": [],
   "source": [
    "alt_X_train8=X_train8.reshape( X_train8.shape[0],-1)\n",
    "alt_X_test8= X_test8.reshape( X_test8.shape[0],-1)\n",
    "\n",
    "alt_X_train7=X_train7.reshape( X_train7.shape[0],-1)\n",
    "alt_X_test7= X_test7.reshape( X_test7.shape[0],-1)\n",
    "\n",
    "alt_X_train6 =X_train6.reshape( X_train6.shape[0],-1)\n",
    "alt_X_test6 = X_test6.reshape( X_test6.shape[0],-1)\n",
    "\n",
    "alt_X_train5 =X_train5.reshape( X_train5.shape[0],-1)\n",
    "alt_X_test5 = X_test5.reshape( X_test5.shape[0],-1)\n"
   ]
  },
  {
   "cell_type": "code",
   "execution_count": 13,
   "metadata": {},
   "outputs": [
    {
     "name": "stdout",
     "output_type": "stream",
     "text": [
      "Train on 21506 samples, validate on 2390 samples\n",
      "Epoch 1/40\n",
      "21506/21506 [==============================] - 1s 43us/step - loss: 0.4049 - accuracy: 0.8369 - val_loss: 0.3988 - val_accuracy: 0.8285\n",
      "Epoch 2/40\n",
      "21506/21506 [==============================] - 1s 26us/step - loss: 0.2726 - accuracy: 0.8928 - val_loss: 0.3402 - val_accuracy: 0.8870\n",
      "Epoch 3/40\n",
      "21506/21506 [==============================] - 1s 25us/step - loss: 0.1966 - accuracy: 0.9340 - val_loss: 0.4405 - val_accuracy: 0.8393\n",
      "Epoch 4/40\n",
      "21506/21506 [==============================] - 0s 23us/step - loss: 0.1423 - accuracy: 0.9604 - val_loss: 0.3901 - val_accuracy: 0.8573\n",
      "Epoch 5/40\n",
      "21506/21506 [==============================] - 1s 26us/step - loss: 0.1052 - accuracy: 0.9727 - val_loss: 0.6577 - val_accuracy: 0.8138\n",
      "Epoch 6/40\n",
      "21506/21506 [==============================] - 1s 25us/step - loss: 0.1281 - accuracy: 0.9574 - val_loss: 0.2174 - val_accuracy: 0.9318\n",
      "Epoch 7/40\n",
      "21506/21506 [==============================] - 1s 24us/step - loss: 0.0572 - accuracy: 0.9869 - val_loss: 0.2254 - val_accuracy: 0.9326\n",
      "Epoch 8/40\n",
      "21506/21506 [==============================] - 1s 26us/step - loss: 0.0491 - accuracy: 0.9889 - val_loss: 0.2058 - val_accuracy: 0.9259\n",
      "Epoch 9/40\n",
      "21506/21506 [==============================] - 1s 24us/step - loss: 0.0352 - accuracy: 0.9924 - val_loss: 0.2111 - val_accuracy: 0.9197\n",
      "Epoch 10/40\n",
      "21506/21506 [==============================] - 1s 24us/step - loss: 0.0276 - accuracy: 0.9943 - val_loss: 0.2160 - val_accuracy: 0.9305\n",
      "Epoch 11/40\n",
      "21506/21506 [==============================] - 1s 26us/step - loss: 0.0229 - accuracy: 0.9957 - val_loss: 0.2154 - val_accuracy: 0.9297\n",
      "Epoch 12/40\n",
      "21506/21506 [==============================] - 1s 26us/step - loss: 0.0191 - accuracy: 0.9962 - val_loss: 0.2256 - val_accuracy: 0.9264\n",
      "Epoch 13/40\n",
      "21506/21506 [==============================] - 1s 24us/step - loss: 0.0170 - accuracy: 0.9967 - val_loss: 0.2429 - val_accuracy: 0.9188\n",
      "Epoch 14/40\n",
      "21506/21506 [==============================] - 1s 27us/step - loss: 0.0146 - accuracy: 0.9974 - val_loss: 0.2348 - val_accuracy: 0.9230\n",
      "Epoch 15/40\n",
      "21506/21506 [==============================] - 1s 25us/step - loss: 0.0155 - accuracy: 0.9968 - val_loss: 0.2367 - val_accuracy: 0.9314\n",
      "Epoch 16/40\n",
      "21506/21506 [==============================] - 1s 25us/step - loss: 0.0150 - accuracy: 0.9971 - val_loss: 0.4149 - val_accuracy: 0.9192\n",
      "Epoch 17/40\n",
      "21506/21506 [==============================] - 1s 25us/step - loss: 0.0128 - accuracy: 0.9970 - val_loss: 0.2721 - val_accuracy: 0.9289\n",
      "Epoch 18/40\n",
      "21506/21506 [==============================] - 1s 27us/step - loss: 0.0078 - accuracy: 0.9981 - val_loss: 0.2511 - val_accuracy: 0.9222\n",
      "Epoch 19/40\n",
      "21506/21506 [==============================] - 1s 27us/step - loss: 0.0057 - accuracy: 0.9989 - val_loss: 0.2745 - val_accuracy: 0.9314\n",
      "Epoch 20/40\n",
      "21506/21506 [==============================] - 1s 26us/step - loss: 0.0039 - accuracy: 0.9994 - val_loss: 0.2542 - val_accuracy: 0.9301\n",
      "Epoch 21/40\n",
      "21506/21506 [==============================] - 1s 27us/step - loss: 0.0042 - accuracy: 0.9992 - val_loss: 0.2773 - val_accuracy: 0.9213\n",
      "Epoch 22/40\n",
      "21506/21506 [==============================] - 1s 28us/step - loss: 0.0039 - accuracy: 0.9994 - val_loss: 0.3242 - val_accuracy: 0.9318\n",
      "Epoch 23/40\n",
      "21506/21506 [==============================] - 1s 28us/step - loss: 0.0047 - accuracy: 0.9990 - val_loss: 0.2970 - val_accuracy: 0.9335\n",
      "Epoch 24/40\n",
      "21506/21506 [==============================] - 1s 31us/step - loss: 0.0022 - accuracy: 0.9997 - val_loss: 0.3401 - val_accuracy: 0.9289\n",
      "Epoch 25/40\n",
      "21506/21506 [==============================] - 1s 29us/step - loss: 0.0025 - accuracy: 0.9997 - val_loss: 0.3648 - val_accuracy: 0.9285\n",
      "Epoch 26/40\n",
      "21506/21506 [==============================] - 1s 29us/step - loss: 0.0029 - accuracy: 0.9997 - val_loss: 0.3232 - val_accuracy: 0.9347\n",
      "Epoch 27/40\n",
      "21506/21506 [==============================] - 1s 28us/step - loss: 2.3988 - accuracy: 0.8426 - val_loss: 3.5754 - val_accuracy: 0.7757\n",
      "Epoch 28/40\n",
      "21506/21506 [==============================] - 1s 30us/step - loss: 2.8911 - accuracy: 0.8187 - val_loss: 3.5754 - val_accuracy: 0.7757\n",
      "Epoch 29/40\n",
      "21506/21506 [==============================] - 1s 29us/step - loss: 2.8911 - accuracy: 0.8187 - val_loss: 3.5754 - val_accuracy: 0.7757\n",
      "Epoch 30/40\n",
      "21506/21506 [==============================] - 1s 28us/step - loss: 2.8911 - accuracy: 0.8187 - val_loss: 3.5754 - val_accuracy: 0.7757\n",
      "Epoch 31/40\n",
      "21506/21506 [==============================] - 1s 30us/step - loss: 2.8911 - accuracy: 0.8187 - val_loss: 3.5754 - val_accuracy: 0.7757\n",
      "Epoch 32/40\n",
      "21506/21506 [==============================] - 1s 31us/step - loss: 2.8911 - accuracy: 0.8187 - val_loss: 3.5754 - val_accuracy: 0.7757\n",
      "Epoch 33/40\n",
      "21506/21506 [==============================] - 1s 30us/step - loss: 2.8911 - accuracy: 0.8187 - val_loss: 3.5754 - val_accuracy: 0.7757\n",
      "Epoch 34/40\n",
      "21506/21506 [==============================] - 1s 33us/step - loss: 2.8911 - accuracy: 0.8187 - val_loss: 3.5754 - val_accuracy: 0.7757\n",
      "Epoch 35/40\n",
      "21506/21506 [==============================] - 1s 32us/step - loss: 2.8911 - accuracy: 0.8187 - val_loss: 3.5754 - val_accuracy: 0.7757\n",
      "Epoch 36/40\n",
      "21506/21506 [==============================] - 1s 32us/step - loss: 2.8911 - accuracy: 0.8187 - val_loss: 3.5754 - val_accuracy: 0.7757\n",
      "Epoch 37/40\n",
      "21506/21506 [==============================] - 1s 31us/step - loss: 2.8911 - accuracy: 0.8187 - val_loss: 3.5754 - val_accuracy: 0.7757\n",
      "Epoch 38/40\n",
      "21506/21506 [==============================] - 1s 31us/step - loss: 2.8911 - accuracy: 0.8187 - val_loss: 3.5754 - val_accuracy: 0.7757\n",
      "Epoch 39/40\n",
      "21506/21506 [==============================] - 1s 32us/step - loss: 2.8911 - accuracy: 0.8187 - val_loss: 3.5754 - val_accuracy: 0.7757\n",
      "Epoch 40/40\n",
      "21506/21506 [==============================] - 1s 33us/step - loss: 2.8911 - accuracy: 0.8187 - val_loss: 3.5754 - val_accuracy: 0.7757\n",
      "dict_keys(['val_loss', 'val_accuracy', 'loss', 'accuracy'])\n"
     ]
    },
    {
     "data": {
      "image/png": "[encoded data removed]",
      "text/plain": [
       "<Figure size 432x288 with 1 Axes>"
      ]
     },
     "metadata": {
      "needs_background": "light"
     },
     "output_type": "display_data"
    },
    {
     "data": {
      "image/png": "[encoded data removed]",
      "text/plain": [
       "<Figure size 432x288 with 1 Axes>"
      ]
     },
     "metadata": {
      "needs_background": "light"
     },
     "output_type": "display_data"
    }
   ],
   "source": [
    "ver_model = keras.models.Sequential()\n",
    "initToUse=keras.initializers.he_normal(seed=1)\n",
    "ver_model.add(Dense(250, input_shape=alt_X_train8.shape[1:], activation='relu', kernel_initializer=initToUse))\n",
    "ver_model.add(Dense(100, activation='relu', kernel_initializer=initToUse))\n",
    "ver_model.add(Dense(35, activation='relu', kernel_initializer=initToUse))\n",
    "ver_model.add(Dense(1, activation='sigmoid', kernel_initializer=initToUse))\n",
    "\n",
    "# Compile model\n",
    "ver_model.compile(loss='binary_crossentropy', optimizer='adam', metrics=['accuracy'])\n",
    "# Fit the model\n",
    "history = ver_model.fit(alt_X_train8, Y_train8, validation_split=0.1, epochs=40, batch_size=500, verbose=True)\n",
    "# list all data in history\n",
    "print(history.history.keys())\n",
    "\n",
    "# summarize history for accuracy\n",
    "plt.plot(history.history['accuracy'])\n",
    "plt.plot(history.history['val_accuracy'])\n",
    "plt.title('model accuracy')\n",
    "plt.ylabel('accuracy')\n",
    "plt.xlabel('epoch')\n",
    "plt.legend(['train', 'validation'], loc='upper left')\n",
    "plt.show()\n",
    "# summarize history for loss\n",
    "plt.plot(history.history['loss'])\n",
    "plt.plot(history.history['val_loss'])\n",
    "plt.title('model loss')\n",
    "plt.ylabel('loss')\n",
    "plt.xlabel('epoch')\n",
    "plt.legend(['train', 'val'], loc='upper left')\n",
    "plt.show()"
   ]
  },
  {
   "cell_type": "code",
   "execution_count": 14,
   "metadata": {},
   "outputs": [
    {
     "name": "stdout",
     "output_type": "stream",
     "text": [
      "24038/24038 [==============================] - 1s 36us/step\n"
     ]
    }
   ],
   "source": [
    "alt_pred = ver_model.evaluate(x=alt_X_test8, y=Y_test8)\n",
    "y_comp = np.round(ver_model.predict(alt_X_test8))"
   ]
  },
  {
   "cell_type": "code",
   "execution_count": 15,
   "metadata": {},
   "outputs": [
    {
     "name": "stdout",
     "output_type": "stream",
     "text": [
      "Accuracy = : 0.5868208408355713\n"
     ]
    }
   ],
   "source": [
    "print(\"Accuracy = :\", str(alt_pred[1]))"
   ]
  },
  {
   "cell_type": "code",
   "execution_count": 16,
   "metadata": {},
   "outputs": [
    {
     "name": "stdout",
     "output_type": "stream",
     "text": [
      "[[    0  9932]\n",
      " [    0 14106]]\n"
     ]
    }
   ],
   "source": [
    "from sklearn import metrics\n",
    "from sklearn.metrics import confusion_matrix\n",
    "import tensorflow as tf\n",
    "\n",
    "# confusion matrix\n",
    "matrix = confusion_matrix(Y_test8, y_comp)\n",
    "print(matrix)\n"
   ]
  },
  {
   "cell_type": "markdown",
   "metadata": {},
   "source": [
    "# Random forest classifier"
   ]
  },
  {
   "cell_type": "code",
   "execution_count": 17,
   "metadata": {},
   "outputs": [
    {
     "name": "stdout",
     "output_type": "stream",
     "text": [
      "[0.00133522 0.00042842 0.         ... 0.         0.         0.        ]\n"
     ]
    }
   ],
   "source": [
    "from sklearn.ensemble import RandomForestClassifier\n",
    "forest_classifier = RandomForestClassifier(bootstrap=True, class_weight=None, criterion='gini',\n",
    "            max_depth=15, max_features='auto', max_leaf_nodes=None,\n",
    "            min_impurity_decrease=0.0, min_impurity_split=None,\n",
    "            min_samples_leaf=1, min_samples_split=2,\n",
    "            min_weight_fraction_leaf=0.0, n_estimators=20, n_jobs=100,\n",
    "            oob_score=False, random_state=None, verbose=0,\n",
    "            warm_start=False)\n",
    "forest_classifier.fit(alt_X_train5, np.ravel(Y_train5))\n",
    "print(forest_classifier.feature_importances_)\n",
    "pred_label_test = forest_classifier.predict(alt_X_test5)"
   ]
  },
  {
   "cell_type": "code",
   "execution_count": 18,
   "metadata": {},
   "outputs": [
    {
     "name": "stdout",
     "output_type": "stream",
     "text": [
      "Accuracy: 0.3545341933279228\n"
     ]
    }
   ],
   "source": [
    "print(\"Accuracy:\",metrics.accuracy_score(Y_test5, pred_label_test))\n",
    "#print(metrics.confusion_matrix(y_test, pred_label_test))\n",
    "#print(metrics.cohen_kappa_score(y_test, pred_label_test))\n",
    "#print(metrics.roc_auc_score(y_test, pred_label_test))"
   ]
  },
  {
   "cell_type": "code",
   "execution_count": null,
   "metadata": {},
   "outputs": [],
   "source": []
  }
 ],
 "metadata": {
  "kernelspec": {
   "display_name": "Python 3",
   "language": "python",
   "name": "python3"
  },
  "language_info": {
   "codemirror_mode": {
    "name": "ipython",
    "version": 3
   },
   "file_extension": ".py",
   "mimetype": "text/x-python",
   "name": "python",
   "nbconvert_exporter": "python",
   "pygments_lexer": "ipython3",
   "version": "3.7.6"
  }
 },
 "nbformat": 4,
 "nbformat_minor": 4
}
